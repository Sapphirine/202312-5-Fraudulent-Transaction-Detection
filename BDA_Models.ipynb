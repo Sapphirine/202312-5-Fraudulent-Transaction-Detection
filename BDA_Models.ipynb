{
  "cells": [
    {
      "cell_type": "code",
      "execution_count": null,
      "metadata": {
        "id": "g-p7kNte7Pa_",
        "colab": {
          "base_uri": "https://localhost:8080/",
          "height": 17
        },
        "outputId": "2fce33f0-a770-4a11-bb91-7ca96b76a876"
      },
      "outputs": [
        {
          "output_type": "display_data",
          "data": {
            "text/plain": [
              "<IPython.core.display.Javascript object>"
            ],
            "application/javascript": [
              "google.colab.output.setIframeHeight(0, true, {maxHeight: 5000})"
            ]
          },
          "metadata": {}
        }
      ],
      "source": [
        "from IPython.display import Javascript\n",
        "def resize_colab_cell():\n",
        "  display(Javascript('google.colab.output.setIframeHeight(0, true, {maxHeight: 5000})'))\n",
        "get_ipython().events.register('pre_run_cell', resize_colab_cell)"
      ]
    },
    {
      "cell_type": "code",
      "execution_count": null,
      "metadata": {
        "colab": {
          "base_uri": "https://localhost:8080/",
          "height": 34
        },
        "id": "1I86rBC68mEy",
        "outputId": "47ae39f2-cba6-44f0-933e-89a1d19ae7a2"
      },
      "outputs": [
        {
          "output_type": "display_data",
          "data": {
            "text/plain": [
              "<IPython.core.display.Javascript object>"
            ],
            "application/javascript": [
              "google.colab.output.setIframeHeight(0, true, {maxHeight: 5000})"
            ]
          },
          "metadata": {}
        },
        {
          "output_type": "display_data",
          "data": {
            "text/plain": [
              "<IPython.core.display.Javascript object>"
            ],
            "application/javascript": [
              "google.colab.output.setIframeHeight(0, true, {maxHeight: 5000})"
            ]
          },
          "metadata": {}
        },
        {
          "output_type": "stream",
          "name": "stdout",
          "text": [
            "Mounted at /content/drive\n"
          ]
        }
      ],
      "source": [
        "\n",
        "# Libraries\n",
        "import numpy as np\n",
        "import pandas as pd\n",
        "import os\n",
        "import gc\n",
        "from collections import Counter\n",
        "from sklearn.datasets import make_classification\n",
        "from imblearn.over_sampling import RandomOverSampler\n",
        "from imblearn.under_sampling import RandomUnderSampler\n",
        "import pickle\n",
        "from sklearn.model_selection import train_test_split\n",
        "\n",
        "# ML packages\n",
        "from sklearn.preprocessing import LabelEncoder\n",
        "from sklearn.linear_model import LogisticRegression\n",
        "from sklearn.svm import SVC\n",
        "from sklearn.naive_bayes import GaussianNB\n",
        "from sklearn.neural_network import MLPClassifier\n",
        "from sklearn.cluster import KMeans\n",
        "from sklearn.ensemble import RandomForestClassifier\n",
        "from sklearn.neighbors import LocalOutlierFactor\n",
        "\n",
        "# Mount Google Drive\n",
        "from google.colab import drive\n",
        "drive.mount('/content/drive')"
      ]
    },
    {
      "cell_type": "code",
      "execution_count": null,
      "metadata": {
        "id": "PN1McXKEkfCi",
        "colab": {
          "base_uri": "https://localhost:8080/",
          "height": 34
        },
        "outputId": "86c2e0f1-f924-48b0-827f-8847dcbfa94b"
      },
      "outputs": [
        {
          "output_type": "display_data",
          "data": {
            "text/plain": [
              "<IPython.core.display.Javascript object>"
            ],
            "application/javascript": [
              "google.colab.output.setIframeHeight(0, true, {maxHeight: 5000})"
            ]
          },
          "metadata": {}
        },
        {
          "output_type": "display_data",
          "data": {
            "text/plain": [
              "<IPython.core.display.Javascript object>"
            ],
            "application/javascript": [
              "google.colab.output.setIframeHeight(0, true, {maxHeight: 5000})"
            ]
          },
          "metadata": {}
        },
        {
          "output_type": "stream",
          "name": "stdout",
          "text": [
            "Train dataset has 590540 rows and 434 columns.\n"
          ]
        }
      ],
      "source": [
        "# Loading data\n",
        "folder_path = '/content/drive/MyDrive/BDA Project/ieee-fraud-detection'\n",
        "train_identity = pd.read_csv(f'{folder_path}/train_identity.csv')\n",
        "train_transaction = pd.read_csv(f'{folder_path}/train_transaction.csv')\n",
        "\n",
        "sub = pd.read_csv(f'{folder_path}/sample_submission.csv')\n",
        "# let's combine the data and work with the whole dataset\n",
        "train = pd.merge(train_transaction, train_identity, on='TransactionID', how='left')\n",
        "\n",
        "print(f'Train dataset has {train.shape[0]} rows and {train.shape[1]} columns.')"
      ]
    },
    {
      "cell_type": "code",
      "execution_count": null,
      "metadata": {
        "colab": {
          "base_uri": "https://localhost:8080/",
          "height": 5000
        },
        "id": "donSUEXi0tLE",
        "outputId": "beb0585b-36e7-40da-8aee-7af584760915"
      },
      "outputs": [
        {
          "output_type": "display_data",
          "data": {
            "text/plain": [
              "<IPython.core.display.Javascript object>"
            ],
            "application/javascript": [
              "google.colab.output.setIframeHeight(0, true, {maxHeight: 5000})"
            ]
          },
          "metadata": {}
        },
        {
          "output_type": "display_data",
          "data": {
            "text/plain": [
              "<IPython.core.display.Javascript object>"
            ],
            "application/javascript": [
              "google.colab.output.setIframeHeight(0, true, {maxHeight: 5000})"
            ]
          },
          "metadata": {}
        },
        {
          "output_type": "stream",
          "name": "stdout",
          "text": [
            "TransactionID          0\n",
            "isFraud                0\n",
            "TransactionDT          0\n",
            "TransactionAmt         0\n",
            "ProductCD              0\n",
            "card1                  0\n",
            "card2               8933\n",
            "card3               1565\n",
            "card4               1577\n",
            "card5               4259\n",
            "card6               1571\n",
            "addr1              65706\n",
            "addr2              65706\n",
            "dist1             352271\n",
            "dist2             552913\n",
            "P_emaildomain      94456\n",
            "R_emaildomain     453249\n",
            "C1                     0\n",
            "C2                     0\n",
            "C3                     0\n",
            "C4                     0\n",
            "C5                     0\n",
            "C6                     0\n",
            "C7                     0\n",
            "C8                     0\n",
            "C9                     0\n",
            "C10                    0\n",
            "C11                    0\n",
            "C12                    0\n",
            "C13                    0\n",
            "C14                    0\n",
            "D1                  1269\n",
            "D2                280797\n",
            "D3                262878\n",
            "D4                168922\n",
            "D5                309841\n",
            "D6                517353\n",
            "D7                551623\n",
            "D8                515614\n",
            "D9                515614\n",
            "D10                76022\n",
            "D11               279287\n",
            "D12               525823\n",
            "D13               528588\n",
            "D14               528353\n",
            "D15                89113\n",
            "M1                271100\n",
            "M2                271100\n",
            "M3                271100\n",
            "M4                281444\n",
            "M5                350482\n",
            "M6                169360\n",
            "M7                346265\n",
            "M8                346252\n",
            "M9                346252\n",
            "V1                279287\n",
            "V2                279287\n",
            "V3                279287\n",
            "V4                279287\n",
            "V5                279287\n",
            "V6                279287\n",
            "V7                279287\n",
            "V8                279287\n",
            "V9                279287\n",
            "V10               279287\n",
            "V11               279287\n",
            "V12                76073\n",
            "V13                76073\n",
            "V14                76073\n",
            "V15                76073\n",
            "V16                76073\n",
            "V17                76073\n",
            "V18                76073\n",
            "V19                76073\n",
            "V20                76073\n",
            "V21                76073\n",
            "V22                76073\n",
            "V23                76073\n",
            "V24                76073\n",
            "V25                76073\n",
            "V26                76073\n",
            "V27                76073\n",
            "V28                76073\n",
            "V29                76073\n",
            "V30                76073\n",
            "V31                76073\n",
            "V32                76073\n",
            "V33                76073\n",
            "V34                76073\n",
            "V35               168969\n",
            "V36               168969\n",
            "V37               168969\n",
            "V38               168969\n",
            "V39               168969\n",
            "V40               168969\n",
            "V41               168969\n",
            "V42               168969\n",
            "V43               168969\n",
            "V44               168969\n",
            "V45               168969\n",
            "V46               168969\n",
            "V47               168969\n",
            "V48               168969\n",
            "V49               168969\n",
            "V50               168969\n",
            "V51               168969\n",
            "V52               168969\n",
            "V53                77096\n",
            "V54                77096\n",
            "V55                77096\n",
            "V56                77096\n",
            "V57                77096\n",
            "V58                77096\n",
            "V59                77096\n",
            "V60                77096\n",
            "V61                77096\n",
            "V62                77096\n",
            "V63                77096\n",
            "V64                77096\n",
            "V65                77096\n",
            "V66                77096\n",
            "V67                77096\n",
            "V68                77096\n",
            "V69                77096\n",
            "V70                77096\n",
            "V71                77096\n",
            "V72                77096\n",
            "V73                77096\n",
            "V74                77096\n",
            "V75                89164\n",
            "V76                89164\n",
            "V77                89164\n",
            "V78                89164\n",
            "V79                89164\n",
            "V80                89164\n",
            "V81                89164\n",
            "V82                89164\n",
            "V83                89164\n",
            "V84                89164\n",
            "V85                89164\n",
            "V86                89164\n",
            "V87                89164\n",
            "V88                89164\n",
            "V89                89164\n",
            "V90                89164\n",
            "V91                89164\n",
            "V92                89164\n",
            "V93                89164\n",
            "V94                89164\n",
            "V95                  314\n",
            "V96                  314\n",
            "V97                  314\n",
            "V98                  314\n",
            "V99                  314\n",
            "V100                 314\n",
            "V101                 314\n",
            "V102                 314\n",
            "V103                 314\n",
            "V104                 314\n",
            "V105                 314\n",
            "V106                 314\n",
            "V107                 314\n",
            "V108                 314\n",
            "V109                 314\n",
            "V110                 314\n",
            "V111                 314\n",
            "V112                 314\n",
            "V113                 314\n",
            "V114                 314\n",
            "V115                 314\n",
            "V116                 314\n",
            "V117                 314\n",
            "V118                 314\n",
            "V119                 314\n",
            "V120                 314\n",
            "V121                 314\n",
            "V122                 314\n",
            "V123                 314\n",
            "V124                 314\n",
            "V125                 314\n",
            "V126                 314\n",
            "V127                 314\n",
            "V128                 314\n",
            "V129                 314\n",
            "V130                 314\n",
            "V131                 314\n",
            "V132                 314\n",
            "V133                 314\n",
            "V134                 314\n",
            "V135                 314\n",
            "V136                 314\n",
            "V137                 314\n",
            "V138              508595\n",
            "V139              508595\n",
            "V140              508595\n",
            "V141              508595\n",
            "V142              508595\n",
            "V143              508589\n",
            "V144              508589\n",
            "V145              508589\n",
            "V146              508595\n",
            "V147              508595\n",
            "V148              508595\n",
            "V149              508595\n",
            "V150              508589\n",
            "V151              508589\n",
            "V152              508589\n",
            "V153              508595\n",
            "V154              508595\n",
            "V155              508595\n",
            "V156              508595\n",
            "V157              508595\n",
            "V158              508595\n",
            "V159              508589\n",
            "V160              508589\n",
            "V161              508595\n",
            "V162              508595\n",
            "V163              508595\n",
            "V164              508589\n",
            "V165              508589\n",
            "V166              508589\n",
            "V167              450909\n",
            "V168              450909\n",
            "V169              450721\n",
            "V170              450721\n",
            "V171              450721\n",
            "V172              450909\n",
            "V173              450909\n",
            "V174              450721\n",
            "V175              450721\n",
            "V176              450909\n",
            "V177              450909\n",
            "V178              450909\n",
            "V179              450909\n",
            "V180              450721\n",
            "V181              450909\n",
            "V182              450909\n",
            "V183              450909\n",
            "V184              450721\n",
            "V185              450721\n",
            "V186              450909\n",
            "V187              450909\n",
            "V188              450721\n",
            "V189              450721\n",
            "V190              450909\n",
            "V191              450909\n",
            "V192              450909\n",
            "V193              450909\n",
            "V194              450721\n",
            "V195              450721\n",
            "V196              450909\n",
            "V197              450721\n",
            "V198              450721\n",
            "V199              450909\n",
            "V200              450721\n",
            "V201              450721\n",
            "V202              450909\n",
            "V203              450909\n",
            "V204              450909\n",
            "V205              450909\n",
            "V206              450909\n",
            "V207              450909\n",
            "V208              450721\n",
            "V209              450721\n",
            "V210              450721\n",
            "V211              450909\n",
            "V212              450909\n",
            "V213              450909\n",
            "V214              450909\n",
            "V215              450909\n",
            "V216              450909\n",
            "V217              460110\n",
            "V218              460110\n",
            "V219              460110\n",
            "V220              449124\n",
            "V221              449124\n",
            "V222              449124\n",
            "V223              460110\n",
            "V224              460110\n",
            "V225              460110\n",
            "V226              460110\n",
            "V227              449124\n",
            "V228              460110\n",
            "V229              460110\n",
            "V230              460110\n",
            "V231              460110\n",
            "V232              460110\n",
            "V233              460110\n",
            "V234              449124\n",
            "V235              460110\n",
            "V236              460110\n",
            "V237              460110\n",
            "V238              449124\n",
            "V239              449124\n",
            "V240              460110\n",
            "V241              460110\n",
            "V242              460110\n",
            "V243              460110\n",
            "V244              460110\n",
            "V245              449124\n",
            "V246              460110\n",
            "V247              460110\n",
            "V248              460110\n",
            "V249              460110\n",
            "V250              449124\n",
            "V251              449124\n",
            "V252              460110\n",
            "V253              460110\n",
            "V254              460110\n",
            "V255              449124\n",
            "V256              449124\n",
            "V257              460110\n",
            "V258              460110\n",
            "V259              449124\n",
            "V260              460110\n",
            "V261              460110\n",
            "V262              460110\n",
            "V263              460110\n",
            "V264              460110\n",
            "V265              460110\n",
            "V266              460110\n",
            "V267              460110\n",
            "V268              460110\n",
            "V269              460110\n",
            "V270              449124\n",
            "V271              449124\n",
            "V272              449124\n",
            "V273              460110\n",
            "V274              460110\n",
            "V275              460110\n",
            "V276              460110\n",
            "V277              460110\n",
            "V278              460110\n",
            "V279                  12\n",
            "V280                  12\n",
            "V281                1269\n",
            "V282                1269\n",
            "V283                1269\n",
            "V284                  12\n",
            "V285                  12\n",
            "V286                  12\n",
            "V287                  12\n",
            "V288                1269\n",
            "V289                1269\n",
            "V290                  12\n",
            "V291                  12\n",
            "V292                  12\n",
            "V293                  12\n",
            "V294                  12\n",
            "V295                  12\n",
            "V296                1269\n",
            "V297                  12\n",
            "V298                  12\n",
            "V299                  12\n",
            "V300                1269\n",
            "V301                1269\n",
            "V302                  12\n",
            "V303                  12\n",
            "V304                  12\n",
            "V305                  12\n",
            "V306                  12\n",
            "V307                  12\n",
            "V308                  12\n",
            "V309                  12\n",
            "V310                  12\n",
            "V311                  12\n",
            "V312                  12\n",
            "V313                1269\n",
            "V314                1269\n",
            "V315                1269\n",
            "V316                  12\n",
            "V317                  12\n",
            "V318                  12\n",
            "V319                  12\n",
            "V320                  12\n",
            "V321                  12\n",
            "V322              508189\n",
            "V323              508189\n",
            "V324              508189\n",
            "V325              508189\n",
            "V326              508189\n",
            "V327              508189\n",
            "V328              508189\n",
            "V329              508189\n",
            "V330              508189\n",
            "V331              508189\n",
            "V332              508189\n",
            "V333              508189\n",
            "V334              508189\n",
            "V335              508189\n",
            "V336              508189\n",
            "V337              508189\n",
            "V338              508189\n",
            "V339              508189\n",
            "dtype: int64\n"
          ]
        }
      ],
      "source": [
        "# Adjust display settings to show more rows and columns\n",
        "pd.set_option('display.max_rows', None)  # Show all rows\n",
        "pd.set_option('display.max_columns', None)  # Show all columns\n",
        "\n",
        "# Display the DataFrame data types\n",
        "print(train_transaction.isna().sum())\n",
        "\n",
        "# Reset display settings to default if needed\n",
        "pd.reset_option('display.max_rows')\n",
        "pd.reset_option('display.max_columns')"
      ]
    },
    {
      "cell_type": "code",
      "execution_count": null,
      "metadata": {
        "id": "w2ygU4oE0FjC",
        "colab": {
          "base_uri": "https://localhost:8080/",
          "height": 236
        },
        "outputId": "86fa52d3-7144-43e1-cf42-807b6816102e"
      },
      "outputs": [
        {
          "output_type": "display_data",
          "data": {
            "text/plain": [
              "<IPython.core.display.Javascript object>"
            ],
            "application/javascript": [
              "google.colab.output.setIframeHeight(0, true, {maxHeight: 5000})"
            ]
          },
          "metadata": {}
        },
        {
          "output_type": "display_data",
          "data": {
            "text/plain": [
              "<IPython.core.display.Javascript object>"
            ],
            "application/javascript": [
              "google.colab.output.setIframeHeight(0, true, {maxHeight: 5000})"
            ]
          },
          "metadata": {}
        },
        {
          "output_type": "execute_result",
          "data": {
            "text/plain": [
              "   TransactionID  isFraud  TransactionDT  TransactionAmt ProductCD  card1  \\\n",
              "0        2987000        0          86400            68.5         W  13926   \n",
              "1        2987001        0          86401            29.0         W   2755   \n",
              "2        2987002        0          86469            59.0         W   4663   \n",
              "3        2987003        0          86499            50.0         W  18132   \n",
              "4        2987004        0          86506            50.0         H   4497   \n",
              "\n",
              "   card2  card3       card4  card5  ...                id_31  id_32  \\\n",
              "0    NaN  150.0    discover  142.0  ...                  NaN    NaN   \n",
              "1  404.0  150.0  mastercard  102.0  ...                  NaN    NaN   \n",
              "2  490.0  150.0        visa  166.0  ...                  NaN    NaN   \n",
              "3  567.0  150.0  mastercard  117.0  ...                  NaN    NaN   \n",
              "4  514.0  150.0  mastercard  102.0  ...  samsung browser 6.2   32.0   \n",
              "\n",
              "       id_33           id_34  id_35 id_36 id_37  id_38  DeviceType  \\\n",
              "0        NaN             NaN    NaN   NaN   NaN    NaN         NaN   \n",
              "1        NaN             NaN    NaN   NaN   NaN    NaN         NaN   \n",
              "2        NaN             NaN    NaN   NaN   NaN    NaN         NaN   \n",
              "3        NaN             NaN    NaN   NaN   NaN    NaN         NaN   \n",
              "4  2220x1080  match_status:2      T     F     T      T      mobile   \n",
              "\n",
              "                      DeviceInfo  \n",
              "0                            NaN  \n",
              "1                            NaN  \n",
              "2                            NaN  \n",
              "3                            NaN  \n",
              "4  SAMSUNG SM-G892A Build/NRD90M  \n",
              "\n",
              "[5 rows x 434 columns]"
            ],
            "text/html": [
              "\n",
              "  <div id=\"df-509498ec-4380-4ed1-a5c6-e896c829ee54\" class=\"colab-df-container\">\n",
              "    <div>\n",
              "<style scoped>\n",
              "    .dataframe tbody tr th:only-of-type {\n",
              "        vertical-align: middle;\n",
              "    }\n",
              "\n",
              "    .dataframe tbody tr th {\n",
              "        vertical-align: top;\n",
              "    }\n",
              "\n",
              "    .dataframe thead th {\n",
              "        text-align: right;\n",
              "    }\n",
              "</style>\n",
              "<table border=\"1\" class=\"dataframe\">\n",
              "  <thead>\n",
              "    <tr style=\"text-align: right;\">\n",
              "      <th></th>\n",
              "      <th>TransactionID</th>\n",
              "      <th>isFraud</th>\n",
              "      <th>TransactionDT</th>\n",
              "      <th>TransactionAmt</th>\n",
              "      <th>ProductCD</th>\n",
              "      <th>card1</th>\n",
              "      <th>card2</th>\n",
              "      <th>card3</th>\n",
              "      <th>card4</th>\n",
              "      <th>card5</th>\n",
              "      <th>...</th>\n",
              "      <th>id_31</th>\n",
              "      <th>id_32</th>\n",
              "      <th>id_33</th>\n",
              "      <th>id_34</th>\n",
              "      <th>id_35</th>\n",
              "      <th>id_36</th>\n",
              "      <th>id_37</th>\n",
              "      <th>id_38</th>\n",
              "      <th>DeviceType</th>\n",
              "      <th>DeviceInfo</th>\n",
              "    </tr>\n",
              "  </thead>\n",
              "  <tbody>\n",
              "    <tr>\n",
              "      <th>0</th>\n",
              "      <td>2987000</td>\n",
              "      <td>0</td>\n",
              "      <td>86400</td>\n",
              "      <td>68.5</td>\n",
              "      <td>W</td>\n",
              "      <td>13926</td>\n",
              "      <td>NaN</td>\n",
              "      <td>150.0</td>\n",
              "      <td>discover</td>\n",
              "      <td>142.0</td>\n",
              "      <td>...</td>\n",
              "      <td>NaN</td>\n",
              "      <td>NaN</td>\n",
              "      <td>NaN</td>\n",
              "      <td>NaN</td>\n",
              "      <td>NaN</td>\n",
              "      <td>NaN</td>\n",
              "      <td>NaN</td>\n",
              "      <td>NaN</td>\n",
              "      <td>NaN</td>\n",
              "      <td>NaN</td>\n",
              "    </tr>\n",
              "    <tr>\n",
              "      <th>1</th>\n",
              "      <td>2987001</td>\n",
              "      <td>0</td>\n",
              "      <td>86401</td>\n",
              "      <td>29.0</td>\n",
              "      <td>W</td>\n",
              "      <td>2755</td>\n",
              "      <td>404.0</td>\n",
              "      <td>150.0</td>\n",
              "      <td>mastercard</td>\n",
              "      <td>102.0</td>\n",
              "      <td>...</td>\n",
              "      <td>NaN</td>\n",
              "      <td>NaN</td>\n",
              "      <td>NaN</td>\n",
              "      <td>NaN</td>\n",
              "      <td>NaN</td>\n",
              "      <td>NaN</td>\n",
              "      <td>NaN</td>\n",
              "      <td>NaN</td>\n",
              "      <td>NaN</td>\n",
              "      <td>NaN</td>\n",
              "    </tr>\n",
              "    <tr>\n",
              "      <th>2</th>\n",
              "      <td>2987002</td>\n",
              "      <td>0</td>\n",
              "      <td>86469</td>\n",
              "      <td>59.0</td>\n",
              "      <td>W</td>\n",
              "      <td>4663</td>\n",
              "      <td>490.0</td>\n",
              "      <td>150.0</td>\n",
              "      <td>visa</td>\n",
              "      <td>166.0</td>\n",
              "      <td>...</td>\n",
              "      <td>NaN</td>\n",
              "      <td>NaN</td>\n",
              "      <td>NaN</td>\n",
              "      <td>NaN</td>\n",
              "      <td>NaN</td>\n",
              "      <td>NaN</td>\n",
              "      <td>NaN</td>\n",
              "      <td>NaN</td>\n",
              "      <td>NaN</td>\n",
              "      <td>NaN</td>\n",
              "    </tr>\n",
              "    <tr>\n",
              "      <th>3</th>\n",
              "      <td>2987003</td>\n",
              "      <td>0</td>\n",
              "      <td>86499</td>\n",
              "      <td>50.0</td>\n",
              "      <td>W</td>\n",
              "      <td>18132</td>\n",
              "      <td>567.0</td>\n",
              "      <td>150.0</td>\n",
              "      <td>mastercard</td>\n",
              "      <td>117.0</td>\n",
              "      <td>...</td>\n",
              "      <td>NaN</td>\n",
              "      <td>NaN</td>\n",
              "      <td>NaN</td>\n",
              "      <td>NaN</td>\n",
              "      <td>NaN</td>\n",
              "      <td>NaN</td>\n",
              "      <td>NaN</td>\n",
              "      <td>NaN</td>\n",
              "      <td>NaN</td>\n",
              "      <td>NaN</td>\n",
              "    </tr>\n",
              "    <tr>\n",
              "      <th>4</th>\n",
              "      <td>2987004</td>\n",
              "      <td>0</td>\n",
              "      <td>86506</td>\n",
              "      <td>50.0</td>\n",
              "      <td>H</td>\n",
              "      <td>4497</td>\n",
              "      <td>514.0</td>\n",
              "      <td>150.0</td>\n",
              "      <td>mastercard</td>\n",
              "      <td>102.0</td>\n",
              "      <td>...</td>\n",
              "      <td>samsung browser 6.2</td>\n",
              "      <td>32.0</td>\n",
              "      <td>2220x1080</td>\n",
              "      <td>match_status:2</td>\n",
              "      <td>T</td>\n",
              "      <td>F</td>\n",
              "      <td>T</td>\n",
              "      <td>T</td>\n",
              "      <td>mobile</td>\n",
              "      <td>SAMSUNG SM-G892A Build/NRD90M</td>\n",
              "    </tr>\n",
              "  </tbody>\n",
              "</table>\n",
              "<p>5 rows × 434 columns</p>\n",
              "</div>\n",
              "    <div class=\"colab-df-buttons\">\n",
              "\n",
              "  <div class=\"colab-df-container\">\n",
              "    <button class=\"colab-df-convert\" onclick=\"convertToInteractive('df-509498ec-4380-4ed1-a5c6-e896c829ee54')\"\n",
              "            title=\"Convert this dataframe to an interactive table.\"\n",
              "            style=\"display:none;\">\n",
              "\n",
              "  <svg xmlns=\"http://www.w3.org/2000/svg\" height=\"24px\" viewBox=\"0 -960 960 960\">\n",
              "    <path d=\"M120-120v-720h720v720H120Zm60-500h600v-160H180v160Zm220 220h160v-160H400v160Zm0 220h160v-160H400v160ZM180-400h160v-160H180v160Zm440 0h160v-160H620v160ZM180-180h160v-160H180v160Zm440 0h160v-160H620v160Z\"/>\n",
              "  </svg>\n",
              "    </button>\n",
              "\n",
              "  <style>\n",
              "    .colab-df-container {\n",
              "      display:flex;\n",
              "      gap: 12px;\n",
              "    }\n",
              "\n",
              "    .colab-df-convert {\n",
              "      background-color: #E8F0FE;\n",
              "      border: none;\n",
              "      border-radius: 50%;\n",
              "      cursor: pointer;\n",
              "      display: none;\n",
              "      fill: #1967D2;\n",
              "      height: 32px;\n",
              "      padding: 0 0 0 0;\n",
              "      width: 32px;\n",
              "    }\n",
              "\n",
              "    .colab-df-convert:hover {\n",
              "      background-color: #E2EBFA;\n",
              "      box-shadow: 0px 1px 2px rgba(60, 64, 67, 0.3), 0px 1px 3px 1px rgba(60, 64, 67, 0.15);\n",
              "      fill: #174EA6;\n",
              "    }\n",
              "\n",
              "    .colab-df-buttons div {\n",
              "      margin-bottom: 4px;\n",
              "    }\n",
              "\n",
              "    [theme=dark] .colab-df-convert {\n",
              "      background-color: #3B4455;\n",
              "      fill: #D2E3FC;\n",
              "    }\n",
              "\n",
              "    [theme=dark] .colab-df-convert:hover {\n",
              "      background-color: #434B5C;\n",
              "      box-shadow: 0px 1px 3px 1px rgba(0, 0, 0, 0.15);\n",
              "      filter: drop-shadow(0px 1px 2px rgba(0, 0, 0, 0.3));\n",
              "      fill: #FFFFFF;\n",
              "    }\n",
              "  </style>\n",
              "\n",
              "    <script>\n",
              "      const buttonEl =\n",
              "        document.querySelector('#df-509498ec-4380-4ed1-a5c6-e896c829ee54 button.colab-df-convert');\n",
              "      buttonEl.style.display =\n",
              "        google.colab.kernel.accessAllowed ? 'block' : 'none';\n",
              "\n",
              "      async function convertToInteractive(key) {\n",
              "        const element = document.querySelector('#df-509498ec-4380-4ed1-a5c6-e896c829ee54');\n",
              "        const dataTable =\n",
              "          await google.colab.kernel.invokeFunction('convertToInteractive',\n",
              "                                                    [key], {});\n",
              "        if (!dataTable) return;\n",
              "\n",
              "        const docLinkHtml = 'Like what you see? Visit the ' +\n",
              "          '<a target=\"_blank\" href=https://colab.research.google.com/notebooks/data_table.ipynb>data table notebook</a>'\n",
              "          + ' to learn more about interactive tables.';\n",
              "        element.innerHTML = '';\n",
              "        dataTable['output_type'] = 'display_data';\n",
              "        await google.colab.output.renderOutput(dataTable, element);\n",
              "        const docLink = document.createElement('div');\n",
              "        docLink.innerHTML = docLinkHtml;\n",
              "        element.appendChild(docLink);\n",
              "      }\n",
              "    </script>\n",
              "  </div>\n",
              "\n",
              "\n",
              "<div id=\"df-386dfe8c-60f0-474f-9bb4-8f087cc0248c\">\n",
              "  <button class=\"colab-df-quickchart\" onclick=\"quickchart('df-386dfe8c-60f0-474f-9bb4-8f087cc0248c')\"\n",
              "            title=\"Suggest charts\"\n",
              "            style=\"display:none;\">\n",
              "\n",
              "<svg xmlns=\"http://www.w3.org/2000/svg\" height=\"24px\"viewBox=\"0 0 24 24\"\n",
              "     width=\"24px\">\n",
              "    <g>\n",
              "        <path d=\"M19 3H5c-1.1 0-2 .9-2 2v14c0 1.1.9 2 2 2h14c1.1 0 2-.9 2-2V5c0-1.1-.9-2-2-2zM9 17H7v-7h2v7zm4 0h-2V7h2v10zm4 0h-2v-4h2v4z\"/>\n",
              "    </g>\n",
              "</svg>\n",
              "  </button>\n",
              "\n",
              "<style>\n",
              "  .colab-df-quickchart {\n",
              "      --bg-color: #E8F0FE;\n",
              "      --fill-color: #1967D2;\n",
              "      --hover-bg-color: #E2EBFA;\n",
              "      --hover-fill-color: #174EA6;\n",
              "      --disabled-fill-color: #AAA;\n",
              "      --disabled-bg-color: #DDD;\n",
              "  }\n",
              "\n",
              "  [theme=dark] .colab-df-quickchart {\n",
              "      --bg-color: #3B4455;\n",
              "      --fill-color: #D2E3FC;\n",
              "      --hover-bg-color: #434B5C;\n",
              "      --hover-fill-color: #FFFFFF;\n",
              "      --disabled-bg-color: #3B4455;\n",
              "      --disabled-fill-color: #666;\n",
              "  }\n",
              "\n",
              "  .colab-df-quickchart {\n",
              "    background-color: var(--bg-color);\n",
              "    border: none;\n",
              "    border-radius: 50%;\n",
              "    cursor: pointer;\n",
              "    display: none;\n",
              "    fill: var(--fill-color);\n",
              "    height: 32px;\n",
              "    padding: 0;\n",
              "    width: 32px;\n",
              "  }\n",
              "\n",
              "  .colab-df-quickchart:hover {\n",
              "    background-color: var(--hover-bg-color);\n",
              "    box-shadow: 0 1px 2px rgba(60, 64, 67, 0.3), 0 1px 3px 1px rgba(60, 64, 67, 0.15);\n",
              "    fill: var(--button-hover-fill-color);\n",
              "  }\n",
              "\n",
              "  .colab-df-quickchart-complete:disabled,\n",
              "  .colab-df-quickchart-complete:disabled:hover {\n",
              "    background-color: var(--disabled-bg-color);\n",
              "    fill: var(--disabled-fill-color);\n",
              "    box-shadow: none;\n",
              "  }\n",
              "\n",
              "  .colab-df-spinner {\n",
              "    border: 2px solid var(--fill-color);\n",
              "    border-color: transparent;\n",
              "    border-bottom-color: var(--fill-color);\n",
              "    animation:\n",
              "      spin 1s steps(1) infinite;\n",
              "  }\n",
              "\n",
              "  @keyframes spin {\n",
              "    0% {\n",
              "      border-color: transparent;\n",
              "      border-bottom-color: var(--fill-color);\n",
              "      border-left-color: var(--fill-color);\n",
              "    }\n",
              "    20% {\n",
              "      border-color: transparent;\n",
              "      border-left-color: var(--fill-color);\n",
              "      border-top-color: var(--fill-color);\n",
              "    }\n",
              "    30% {\n",
              "      border-color: transparent;\n",
              "      border-left-color: var(--fill-color);\n",
              "      border-top-color: var(--fill-color);\n",
              "      border-right-color: var(--fill-color);\n",
              "    }\n",
              "    40% {\n",
              "      border-color: transparent;\n",
              "      border-right-color: var(--fill-color);\n",
              "      border-top-color: var(--fill-color);\n",
              "    }\n",
              "    60% {\n",
              "      border-color: transparent;\n",
              "      border-right-color: var(--fill-color);\n",
              "    }\n",
              "    80% {\n",
              "      border-color: transparent;\n",
              "      border-right-color: var(--fill-color);\n",
              "      border-bottom-color: var(--fill-color);\n",
              "    }\n",
              "    90% {\n",
              "      border-color: transparent;\n",
              "      border-bottom-color: var(--fill-color);\n",
              "    }\n",
              "  }\n",
              "</style>\n",
              "\n",
              "  <script>\n",
              "    async function quickchart(key) {\n",
              "      const quickchartButtonEl =\n",
              "        document.querySelector('#' + key + ' button');\n",
              "      quickchartButtonEl.disabled = true;  // To prevent multiple clicks.\n",
              "      quickchartButtonEl.classList.add('colab-df-spinner');\n",
              "      try {\n",
              "        const charts = await google.colab.kernel.invokeFunction(\n",
              "            'suggestCharts', [key], {});\n",
              "      } catch (error) {\n",
              "        console.error('Error during call to suggestCharts:', error);\n",
              "      }\n",
              "      quickchartButtonEl.classList.remove('colab-df-spinner');\n",
              "      quickchartButtonEl.classList.add('colab-df-quickchart-complete');\n",
              "    }\n",
              "    (() => {\n",
              "      let quickchartButtonEl =\n",
              "        document.querySelector('#df-386dfe8c-60f0-474f-9bb4-8f087cc0248c button');\n",
              "      quickchartButtonEl.style.display =\n",
              "        google.colab.kernel.accessAllowed ? 'block' : 'none';\n",
              "    })();\n",
              "  </script>\n",
              "</div>\n",
              "    </div>\n",
              "  </div>\n"
            ]
          },
          "metadata": {},
          "execution_count": 7
        }
      ],
      "source": [
        "train.head()"
      ]
    },
    {
      "cell_type": "code",
      "execution_count": null,
      "metadata": {
        "id": "oRlJxaLGmIOL",
        "colab": {
          "base_uri": "https://localhost:8080/",
          "height": 52
        },
        "outputId": "4a5cdcf5-be9d-4ae5-f538-1ce305ffd87f"
      },
      "outputs": [
        {
          "output_type": "display_data",
          "data": {
            "text/plain": [
              "<IPython.core.display.Javascript object>"
            ],
            "application/javascript": [
              "google.colab.output.setIframeHeight(0, true, {maxHeight: 5000})"
            ]
          },
          "metadata": {}
        },
        {
          "output_type": "display_data",
          "data": {
            "text/plain": [
              "<IPython.core.display.Javascript object>"
            ],
            "application/javascript": [
              "google.colab.output.setIframeHeight(0, true, {maxHeight: 5000})"
            ]
          },
          "metadata": {}
        },
        {
          "output_type": "stream",
          "name": "stdout",
          "text": [
            "There are 414 columns in train dataset with missing values.\n",
            "There are 0 columns in train dataset with one unique value.\n"
          ]
        }
      ],
      "source": [
        "# pre-processing\n",
        "del train_identity, train_transaction #, test_identity, test_transaction\n",
        "\n",
        "print(f'There are {train.isnull().any().sum()} columns in train dataset with missing values.')\n",
        "\n",
        "one_value_cols = [col for col in train.columns if train[col].nunique() <= 1]\n",
        "\n",
        "print(f'There are {len(one_value_cols)} columns in train dataset with one unique value.')"
      ]
    },
    {
      "cell_type": "code",
      "execution_count": null,
      "metadata": {
        "id": "qCfmnfC6mxR9",
        "colab": {
          "base_uri": "https://localhost:8080/",
          "height": 17
        },
        "outputId": "9c7eff99-cd48-4341-8302-51c69b966920"
      },
      "outputs": [
        {
          "output_type": "display_data",
          "data": {
            "text/plain": [
              "<IPython.core.display.Javascript object>"
            ],
            "application/javascript": [
              "google.colab.output.setIframeHeight(0, true, {maxHeight: 5000})"
            ]
          },
          "metadata": {}
        },
        {
          "output_type": "display_data",
          "data": {
            "text/plain": [
              "<IPython.core.display.Javascript object>"
            ],
            "application/javascript": [
              "google.colab.output.setIframeHeight(0, true, {maxHeight: 5000})"
            ]
          },
          "metadata": {}
        }
      ],
      "source": [
        "# Feature Engineering\n",
        "train['TransactionAmt_to_mean_card1'] = train['TransactionAmt'] / train.groupby(['card1'])['TransactionAmt'].transform('mean')\n",
        "train['TransactionAmt_to_mean_card4'] = train['TransactionAmt'] / train.groupby(['card4'])['TransactionAmt'].transform('mean')\n",
        "train['TransactionAmt_to_std_card1'] = train['TransactionAmt'] / train.groupby(['card1'])['TransactionAmt'].transform('std')\n",
        "train['TransactionAmt_to_std_card4'] = train['TransactionAmt'] / train.groupby(['card4'])['TransactionAmt'].transform('std')\n",
        "\n",
        "train['id_02_to_mean_card1'] = train['id_02'] / train.groupby(['card1'])['id_02'].transform('mean')\n",
        "train['id_02_to_mean_card4'] = train['id_02'] / train.groupby(['card4'])['id_02'].transform('mean')\n",
        "train['id_02_to_std_card1'] = train['id_02'] / train.groupby(['card1'])['id_02'].transform('std')\n",
        "train['id_02_to_std_card4'] = train['id_02'] / train.groupby(['card4'])['id_02'].transform('std')\n",
        "\n",
        "train['D15_to_mean_card1'] = train['D15'] / train.groupby(['card1'])['D15'].transform('mean')\n",
        "train['D15_to_mean_card4'] = train['D15'] / train.groupby(['card4'])['D15'].transform('mean')\n",
        "train['D15_to_std_card1'] = train['D15'] / train.groupby(['card1'])['D15'].transform('std')\n",
        "train['D15_to_std_card4'] = train['D15'] / train.groupby(['card4'])['D15'].transform('std')\n",
        "\n",
        "train['D15_to_mean_addr1'] = train['D15'] / train.groupby(['addr1'])['D15'].transform('mean')\n",
        "train['D15_to_mean_addr2'] = train['D15'] / train.groupby(['addr2'])['D15'].transform('mean')\n",
        "train['D15_to_std_addr1'] = train['D15'] / train.groupby(['addr1'])['D15'].transform('std')\n",
        "train['D15_to_std_addr2'] = train['D15'] / train.groupby(['addr2'])['D15'].transform('std')"
      ]
    },
    {
      "cell_type": "code",
      "execution_count": null,
      "metadata": {
        "id": "j9pIpIFdmzWk",
        "colab": {
          "base_uri": "https://localhost:8080/",
          "height": 17
        },
        "outputId": "13fb50bd-014e-4d98-a4fb-b99cc8e32e88"
      },
      "outputs": [
        {
          "output_type": "display_data",
          "data": {
            "text/plain": [
              "<IPython.core.display.Javascript object>"
            ],
            "application/javascript": [
              "google.colab.output.setIframeHeight(0, true, {maxHeight: 5000})"
            ]
          },
          "metadata": {}
        },
        {
          "output_type": "display_data",
          "data": {
            "text/plain": [
              "<IPython.core.display.Javascript object>"
            ],
            "application/javascript": [
              "google.colab.output.setIframeHeight(0, true, {maxHeight: 5000})"
            ]
          },
          "metadata": {}
        }
      ],
      "source": [
        "train[['P_emaildomain_1', 'P_emaildomain_2', 'P_emaildomain_3']] = train['P_emaildomain'].str.split('.', expand=True)\n",
        "train[['R_emaildomain_1', 'R_emaildomain_2', 'R_emaildomain_3']] = train['R_emaildomain'].str.split('.', expand=True)"
      ]
    },
    {
      "cell_type": "code",
      "execution_count": null,
      "metadata": {
        "id": "_oDzFJQ3m2J_",
        "colab": {
          "base_uri": "https://localhost:8080/",
          "height": 34
        },
        "outputId": "913ba831-2958-4c66-927e-be4c2a724700"
      },
      "outputs": [
        {
          "output_type": "display_data",
          "data": {
            "text/plain": [
              "<IPython.core.display.Javascript object>"
            ],
            "application/javascript": [
              "google.colab.output.setIframeHeight(0, true, {maxHeight: 5000})"
            ]
          },
          "metadata": {}
        },
        {
          "output_type": "display_data",
          "data": {
            "text/plain": [
              "<IPython.core.display.Javascript object>"
            ],
            "application/javascript": [
              "google.colab.output.setIframeHeight(0, true, {maxHeight: 5000})"
            ]
          },
          "metadata": {}
        },
        {
          "output_type": "stream",
          "name": "stdout",
          "text": [
            "352\n"
          ]
        }
      ],
      "source": [
        "# Data Pre-processing\n",
        "train[\"isFraud\"].value_counts()\n",
        "\n",
        "many_null_cols = [col for col in train.columns if train[col].isnull().sum() / train.shape[0] > 0.7]\n",
        "\n",
        "big_top_value_cols = [col for col in train.columns if train[col].value_counts(dropna=False, normalize=True).values[0] > 0.7]\n",
        "\n",
        "cols_to_drop = list(set(many_null_cols + big_top_value_cols + one_value_cols))\n",
        "cols_to_drop.remove('isFraud')\n",
        "print(len(cols_to_drop))\n",
        "\n",
        "train = train.drop(cols_to_drop, axis=1)\n",
        "\n",
        "cat_cols = ['id_12', 'id_13', 'id_14', 'id_15', 'id_16', 'id_17', 'id_18', 'id_19', 'id_20', 'id_21', 'id_22', 'id_23', 'id_24', 'id_25', 'id_26', 'id_27', 'id_28', 'id_29',\n",
        "            'id_30', 'id_31', 'id_32', 'id_33', 'id_34', 'id_35', 'id_36', 'id_37', 'id_38', 'DeviceType', 'DeviceInfo', 'ProductCD', 'card4', 'card6', 'M4','P_emaildomain',\n",
        "            'R_emaildomain', 'card1', 'card2', 'card3',  'card5', 'addr1', 'addr2', 'M1', 'M2', 'M3', 'M5', 'M6', 'M7', 'M8', 'M9',\n",
        "            'P_emaildomain_1', 'P_emaildomain_2', 'P_emaildomain_3', 'R_emaildomain_1', 'R_emaildomain_2', 'R_emaildomain_3']\n",
        "for col in cat_cols:\n",
        "    if col in train.columns:\n",
        "        le = LabelEncoder()\n",
        "        le.fit(list(train[col].astype(str).values))\n",
        "        train[col] = le.transform(list(train[col].astype(str).values))"
      ]
    },
    {
      "cell_type": "code",
      "execution_count": null,
      "metadata": {
        "id": "8T69FLJFX5E0",
        "colab": {
          "base_uri": "https://localhost:8080/",
          "height": 34
        },
        "outputId": "4bf75cdf-2d67-4fd1-cd78-e00599ab30a4"
      },
      "outputs": [
        {
          "output_type": "display_data",
          "data": {
            "text/plain": [
              "<IPython.core.display.Javascript object>"
            ],
            "application/javascript": [
              "google.colab.output.setIframeHeight(0, true, {maxHeight: 5000})"
            ]
          },
          "metadata": {}
        },
        {
          "output_type": "display_data",
          "data": {
            "text/plain": [
              "<IPython.core.display.Javascript object>"
            ],
            "application/javascript": [
              "google.colab.output.setIframeHeight(0, true, {maxHeight: 5000})"
            ]
          },
          "metadata": {}
        },
        {
          "output_type": "execute_result",
          "data": {
            "text/plain": [
              "36"
            ]
          },
          "metadata": {},
          "execution_count": 15
        }
      ],
      "source": [
        "gc.collect()"
      ]
    },
    {
      "cell_type": "code",
      "execution_count": null,
      "metadata": {
        "id": "k-PBCm0jnFO5",
        "colab": {
          "base_uri": "https://localhost:8080/",
          "height": 52
        },
        "outputId": "268e1d66-5f07-4c53-c33c-0c015ad2b7aa"
      },
      "outputs": [
        {
          "output_type": "display_data",
          "data": {
            "text/plain": [
              "<IPython.core.display.Javascript object>"
            ],
            "application/javascript": [
              "google.colab.output.setIframeHeight(0, true, {maxHeight: 5000})"
            ]
          },
          "metadata": {}
        },
        {
          "output_type": "display_data",
          "data": {
            "text/plain": [
              "<IPython.core.display.Javascript object>"
            ],
            "application/javascript": [
              "google.colab.output.setIframeHeight(0, true, {maxHeight: 5000})"
            ]
          },
          "metadata": {}
        },
        {
          "output_type": "stream",
          "name": "stdout",
          "text": [
            "(590540, 101)\n",
            "(590540,)\n"
          ]
        }
      ],
      "source": [
        "X = train.sort_values('TransactionDT').drop(['isFraud', 'TransactionDT', 'TransactionID'], axis=1)\n",
        "y = train.sort_values('TransactionDT')['isFraud']\n",
        "\n",
        "print(X.shape)\n",
        "print(y.shape)\n",
        "\n",
        "del train"
      ]
    },
    {
      "cell_type": "code",
      "execution_count": null,
      "metadata": {
        "id": "R08JOFPlBgQ2",
        "colab": {
          "base_uri": "https://localhost:8080/",
          "height": 1145
        },
        "outputId": "4de9030c-9775-45f1-9807-c7ad6dc78bf0"
      },
      "outputs": [
        {
          "output_type": "display_data",
          "data": {
            "text/plain": [
              "<IPython.core.display.Javascript object>"
            ],
            "application/javascript": [
              "google.colab.output.setIframeHeight(0, true, {maxHeight: 5000})"
            ]
          },
          "metadata": {}
        },
        {
          "output_type": "display_data",
          "data": {
            "text/plain": [
              "<IPython.core.display.Javascript object>"
            ],
            "application/javascript": [
              "google.colab.output.setIframeHeight(0, true, {maxHeight: 5000})"
            ]
          },
          "metadata": {}
        },
        {
          "output_type": "stream",
          "name": "stdout",
          "text": [
            "Processing chunk 1/60\n",
            "Processing chunk 2/60\n",
            "Processing chunk 3/60\n",
            "Processing chunk 4/60\n",
            "Processing chunk 5/60\n",
            "Processing chunk 6/60\n",
            "Processing chunk 7/60\n",
            "Processing chunk 8/60\n",
            "Processing chunk 9/60\n",
            "Processing chunk 10/60\n",
            "Processing chunk 11/60\n",
            "Processing chunk 12/60\n",
            "Processing chunk 13/60\n",
            "Processing chunk 14/60\n",
            "Processing chunk 15/60\n",
            "Processing chunk 16/60\n",
            "Processing chunk 17/60\n",
            "Processing chunk 18/60\n",
            "Processing chunk 19/60\n",
            "Processing chunk 20/60\n"
          ]
        },
        {
          "output_type": "stream",
          "name": "stderr",
          "text": [
            "<ipython-input-18-cf04fe2e8703>:8: SettingWithCopyWarning: \n",
            "A value is trying to be set on a copy of a slice from a DataFrame\n",
            "\n",
            "See the caveats in the documentation: https://pandas.pydata.org/pandas-docs/stable/user_guide/indexing.html#returning-a-view-versus-a-copy\n",
            "  chunk.replace([np.inf, -np.inf], np.nan, inplace=True)\n"
          ]
        },
        {
          "output_type": "stream",
          "name": "stdout",
          "text": [
            "Processing chunk 21/60\n",
            "Processing chunk 22/60\n",
            "Processing chunk 23/60\n",
            "Processing chunk 24/60\n",
            "Processing chunk 25/60\n",
            "Processing chunk 26/60\n",
            "Processing chunk 27/60\n",
            "Processing chunk 28/60\n",
            "Processing chunk 29/60\n",
            "Processing chunk 30/60\n",
            "Processing chunk 31/60\n",
            "Processing chunk 32/60\n",
            "Processing chunk 33/60\n",
            "Processing chunk 34/60\n",
            "Processing chunk 35/60\n",
            "Processing chunk 36/60\n",
            "Processing chunk 37/60\n",
            "Processing chunk 38/60\n",
            "Processing chunk 39/60\n",
            "Processing chunk 40/60\n",
            "Processing chunk 41/60\n",
            "Processing chunk 42/60\n",
            "Processing chunk 43/60\n",
            "Processing chunk 44/60\n",
            "Processing chunk 45/60\n",
            "Processing chunk 46/60\n",
            "Processing chunk 47/60\n",
            "Processing chunk 48/60\n",
            "Processing chunk 49/60\n",
            "Processing chunk 50/60\n",
            "Processing chunk 51/60\n",
            "Processing chunk 52/60\n",
            "Processing chunk 53/60\n",
            "Processing chunk 54/60\n",
            "Processing chunk 55/60\n",
            "Processing chunk 56/60\n",
            "Processing chunk 57/60\n",
            "Processing chunk 58/60\n",
            "Processing chunk 59/60\n",
            "Processing chunk 60/60\n"
          ]
        }
      ],
      "source": [
        "def clean_inf_nan_chunked(df, chunksize=10000):\n",
        "    total_rows = len(df)\n",
        "    chunks = [df[i:i + chunksize] for i in range(0, total_rows, chunksize)]\n",
        "\n",
        "    # Process each chunk\n",
        "    for i, chunk in enumerate(chunks):\n",
        "        print(f\"Processing chunk {i + 1}/{len(chunks)}\")\n",
        "        chunk.replace([np.inf, -np.inf], np.nan, inplace=True)\n",
        "\n",
        "    # Concatenate the processed chunks back into a DataFrame\n",
        "    return pd.concat(chunks, ignore_index=True)\n",
        "\n",
        "# Clean infinite values to NaN in chunks\n",
        "X = clean_inf_nan_chunked(X)"
      ]
    },
    {
      "cell_type": "code",
      "execution_count": null,
      "metadata": {
        "id": "QicOJhMnEI9k",
        "colab": {
          "base_uri": "https://localhost:8080/",
          "height": 34
        },
        "outputId": "359e694d-c731-4c38-9215-e3eb81d3e494"
      },
      "outputs": [
        {
          "output_type": "display_data",
          "data": {
            "text/plain": [
              "<IPython.core.display.Javascript object>"
            ],
            "application/javascript": [
              "google.colab.output.setIframeHeight(0, true, {maxHeight: 5000})"
            ]
          },
          "metadata": {}
        },
        {
          "output_type": "display_data",
          "data": {
            "text/plain": [
              "<IPython.core.display.Javascript object>"
            ],
            "application/javascript": [
              "google.colab.output.setIframeHeight(0, true, {maxHeight: 5000})"
            ]
          },
          "metadata": {}
        },
        {
          "output_type": "execute_result",
          "data": {
            "text/plain": [
              "0"
            ]
          },
          "metadata": {},
          "execution_count": 19
        }
      ],
      "source": [
        "gc.collect()"
      ]
    },
    {
      "cell_type": "code",
      "execution_count": null,
      "metadata": {
        "id": "iQm5hTbjEsx8",
        "colab": {
          "base_uri": "https://localhost:8080/",
          "height": 52
        },
        "outputId": "20773488-a0a0-41d6-c86f-3b543db685c3"
      },
      "outputs": [
        {
          "output_type": "display_data",
          "data": {
            "text/plain": [
              "<IPython.core.display.Javascript object>"
            ],
            "application/javascript": [
              "google.colab.output.setIframeHeight(0, true, {maxHeight: 5000})"
            ]
          },
          "metadata": {}
        },
        {
          "output_type": "display_data",
          "data": {
            "text/plain": [
              "<IPython.core.display.Javascript object>"
            ],
            "application/javascript": [
              "google.colab.output.setIframeHeight(0, true, {maxHeight: 5000})"
            ]
          },
          "metadata": {}
        },
        {
          "output_type": "stream",
          "name": "stdout",
          "text": [
            "X has 103315 rows and 101 columns.\n",
            "Y has 103315 rows.\n"
          ]
        }
      ],
      "source": [
        "# Oversampling\n",
        "oversample = RandomUnderSampler(sampling_strategy=0.25)\n",
        "X_over, y_over = oversample.fit_resample(X, y)\n",
        "\n",
        "print(f'X has {X_over.shape[0]} rows and {X_over.shape[1]} columns.')\n",
        "print(f'Y has {y_over.shape[0]} rows.')"
      ]
    },
    {
      "cell_type": "code",
      "execution_count": null,
      "metadata": {
        "id": "Msq4OeQU9Fsz",
        "colab": {
          "base_uri": "https://localhost:8080/",
          "height": 3556
        },
        "outputId": "a344e516-06ca-4190-b45d-62b3c2fd4281"
      },
      "outputs": [
        {
          "output_type": "display_data",
          "data": {
            "text/plain": [
              "<IPython.core.display.Javascript object>"
            ],
            "application/javascript": [
              "google.colab.output.setIframeHeight(0, true, {maxHeight: 5000})"
            ]
          },
          "metadata": {}
        },
        {
          "output_type": "display_data",
          "data": {
            "text/plain": [
              "<IPython.core.display.Javascript object>"
            ],
            "application/javascript": [
              "google.colab.output.setIframeHeight(0, true, {maxHeight: 5000})"
            ]
          },
          "metadata": {}
        },
        {
          "output_type": "stream",
          "name": "stdout",
          "text": [
            "TransactionAmt                  float64\n",
            "card1                             int64\n",
            "card2                             int64\n",
            "card4                             int64\n",
            "card5                             int64\n",
            "addr1                             int64\n",
            "dist1                           float64\n",
            "P_emaildomain                     int64\n",
            "C1                              float64\n",
            "C2                              float64\n",
            "C5                              float64\n",
            "C6                              float64\n",
            "C9                              float64\n",
            "C11                             float64\n",
            "C13                             float64\n",
            "C14                             float64\n",
            "D1                              float64\n",
            "D2                              float64\n",
            "D3                              float64\n",
            "D4                              float64\n",
            "D5                              float64\n",
            "D10                             float64\n",
            "D11                             float64\n",
            "D15                             float64\n",
            "M1                                int64\n",
            "M2                                int64\n",
            "M3                                int64\n",
            "M4                                int64\n",
            "M5                                int64\n",
            "M6                                int64\n",
            "M7                                int64\n",
            "M8                                int64\n",
            "M9                                int64\n",
            "V1                              float64\n",
            "V2                              float64\n",
            "V3                              float64\n",
            "V4                              float64\n",
            "V5                              float64\n",
            "V6                              float64\n",
            "V7                              float64\n",
            "V8                              float64\n",
            "V9                              float64\n",
            "V10                             float64\n",
            "V11                             float64\n",
            "V12                             float64\n",
            "V13                             float64\n",
            "V19                             float64\n",
            "V20                             float64\n",
            "V29                             float64\n",
            "V30                             float64\n",
            "V35                             float64\n",
            "V36                             float64\n",
            "V37                             float64\n",
            "V38                             float64\n",
            "V39                             float64\n",
            "V40                             float64\n",
            "V42                             float64\n",
            "V43                             float64\n",
            "V44                             float64\n",
            "V45                             float64\n",
            "V46                             float64\n",
            "V47                             float64\n",
            "V48                             float64\n",
            "V49                             float64\n",
            "V50                             float64\n",
            "V51                             float64\n",
            "V52                             float64\n",
            "V53                             float64\n",
            "V54                             float64\n",
            "V61                             float64\n",
            "V62                             float64\n",
            "V69                             float64\n",
            "V70                             float64\n",
            "V75                             float64\n",
            "V76                             float64\n",
            "V82                             float64\n",
            "V83                             float64\n",
            "V90                             float64\n",
            "V91                             float64\n",
            "V96                             float64\n",
            "V99                             float64\n",
            "V127                            float64\n",
            "V130                            float64\n",
            "V282                            float64\n",
            "V283                            float64\n",
            "V285                            float64\n",
            "V307                            float64\n",
            "V310                            float64\n",
            "TransactionAmt_to_mean_card1    float64\n",
            "TransactionAmt_to_mean_card4    float64\n",
            "TransactionAmt_to_std_card1     float64\n",
            "TransactionAmt_to_std_card4     float64\n",
            "D15_to_mean_card1               float64\n",
            "D15_to_mean_card4               float64\n",
            "D15_to_std_card1                float64\n",
            "D15_to_std_card4                float64\n",
            "D15_to_mean_addr1               float64\n",
            "D15_to_mean_addr2               float64\n",
            "D15_to_std_addr1                float64\n",
            "D15_to_std_addr2                float64\n",
            "P_emaildomain_1                   int64\n",
            "dtype: object\n",
            "TransactionAmt                      0\n",
            "card1                               0\n",
            "card2                               0\n",
            "card4                               0\n",
            "card5                               0\n",
            "addr1                               0\n",
            "dist1                           64624\n",
            "P_emaildomain                       0\n",
            "C1                                  0\n",
            "C2                                  0\n",
            "C5                                  0\n",
            "C6                                  0\n",
            "C9                                  0\n",
            "C11                                 0\n",
            "C13                                 0\n",
            "C14                                 0\n",
            "D1                                224\n",
            "D2                              51814\n",
            "D3                              47631\n",
            "D4                              29652\n",
            "D5                              53373\n",
            "D10                             14360\n",
            "D11                             52920\n",
            "D15                             16657\n",
            "M1                                  0\n",
            "M2                                  0\n",
            "M3                                  0\n",
            "M4                                  0\n",
            "M5                                  0\n",
            "M6                                  0\n",
            "M7                                  0\n",
            "M8                                  0\n",
            "M9                                  0\n",
            "V1                              52920\n",
            "V2                              52920\n",
            "V3                              52920\n",
            "V4                              52920\n",
            "V5                              52920\n",
            "V6                              52920\n",
            "V7                              52920\n",
            "V8                              52920\n",
            "V9                              52920\n",
            "V10                             52920\n",
            "V11                             52920\n",
            "V12                             14371\n",
            "V13                             14371\n",
            "V19                             14371\n",
            "V20                             14371\n",
            "V29                             14371\n",
            "V30                             14371\n",
            "V35                             29656\n",
            "V36                             29656\n",
            "V37                             29656\n",
            "V38                             29656\n",
            "V39                             29656\n",
            "V40                             29656\n",
            "V42                             29656\n",
            "V43                             29656\n",
            "V44                             29656\n",
            "V45                             29656\n",
            "V46                             29656\n",
            "V47                             29656\n",
            "V48                             29656\n",
            "V49                             29656\n",
            "V50                             29656\n",
            "V51                             29656\n",
            "V52                             29656\n",
            "V53                             15040\n",
            "V54                             15040\n",
            "V61                             15040\n",
            "V62                             15040\n",
            "V69                             15040\n",
            "V70                             15040\n",
            "V75                             16667\n",
            "V76                             16667\n",
            "V82                             16667\n",
            "V83                             16667\n",
            "V90                             16667\n",
            "V91                             16667\n",
            "V96                                62\n",
            "V99                                62\n",
            "V127                               62\n",
            "V130                               62\n",
            "V282                              224\n",
            "V283                              224\n",
            "V285                                4\n",
            "V307                                4\n",
            "V310                                4\n",
            "TransactionAmt_to_mean_card1        0\n",
            "TransactionAmt_to_mean_card4      300\n",
            "TransactionAmt_to_std_card1       867\n",
            "TransactionAmt_to_std_card4       300\n",
            "D15_to_mean_card1               17583\n",
            "D15_to_mean_card4               16953\n",
            "D15_to_std_card1                17759\n",
            "D15_to_std_card4                16953\n",
            "D15_to_mean_addr1               31925\n",
            "D15_to_mean_addr2               31894\n",
            "D15_to_std_addr1                31931\n",
            "D15_to_std_addr2                31894\n",
            "P_emaildomain_1                     0\n",
            "dtype: int64\n"
          ]
        }
      ],
      "source": [
        "# Adjust display settings to show more rows and columns\n",
        "pd.set_option('display.max_rows', None)  # Show all rows\n",
        "pd.set_option('display.max_columns', None)  # Show all columns\n",
        "\n",
        "# Display the DataFrame data types\n",
        "print(X_over.dtypes)\n",
        "print(X_over.isna().sum())\n",
        "\n",
        "# Reset display settings to default if needed\n",
        "pd.reset_option('display.max_rows')\n",
        "pd.reset_option('display.max_columns')"
      ]
    },
    {
      "cell_type": "code",
      "execution_count": null,
      "metadata": {
        "id": "NGERrNA46Ay-",
        "colab": {
          "base_uri": "https://localhost:8080/",
          "height": 17
        },
        "outputId": "02311308-6e94-4b3a-9c71-3d006d8fca35"
      },
      "outputs": [
        {
          "output_type": "display_data",
          "data": {
            "text/plain": [
              "<IPython.core.display.Javascript object>"
            ],
            "application/javascript": [
              "google.colab.output.setIframeHeight(0, true, {maxHeight: 5000})"
            ]
          },
          "metadata": {}
        },
        {
          "output_type": "display_data",
          "data": {
            "text/plain": [
              "<IPython.core.display.Javascript object>"
            ],
            "application/javascript": [
              "google.colab.output.setIframeHeight(0, true, {maxHeight: 5000})"
            ]
          },
          "metadata": {}
        }
      ],
      "source": [
        "X_over.head()\n",
        "X_over.to_csv('x_over.csv',index=False)"
      ]
    },
    {
      "cell_type": "code",
      "execution_count": null,
      "metadata": {
        "id": "v_kP2rQpIIl2",
        "colab": {
          "base_uri": "https://localhost:8080/",
          "height": 17
        },
        "outputId": "66ba52d7-3b85-408d-fcd7-2ae56ed79010"
      },
      "outputs": [
        {
          "output_type": "display_data",
          "data": {
            "text/plain": [
              "<IPython.core.display.Javascript object>"
            ],
            "application/javascript": [
              "google.colab.output.setIframeHeight(0, true, {maxHeight: 5000})"
            ]
          },
          "metadata": {}
        },
        {
          "output_type": "display_data",
          "data": {
            "text/plain": [
              "<IPython.core.display.Javascript object>"
            ],
            "application/javascript": [
              "google.colab.output.setIframeHeight(0, true, {maxHeight: 5000})"
            ]
          },
          "metadata": {}
        }
      ],
      "source": [
        "# undersample = RandomUnderSampler(sampling_strategy='majority')\n",
        "# X_under, y_under = undersample.fit_resample(X, y)\n",
        "\n",
        "# print(f'Train dataset has {X_under.shape[0]} rows and {X_under.shape[1]} columns.')\n",
        "# print(f'Test dataset has {y_under.shape[0]} rows.')"
      ]
    },
    {
      "cell_type": "code",
      "execution_count": null,
      "metadata": {
        "id": "LWFUke67d_bI",
        "colab": {
          "base_uri": "https://localhost:8080/",
          "height": 52
        },
        "outputId": "137d4bd5-0875-4dff-f585-964291a92296"
      },
      "outputs": [
        {
          "output_type": "display_data",
          "data": {
            "text/plain": [
              "<IPython.core.display.Javascript object>"
            ],
            "application/javascript": [
              "google.colab.output.setIframeHeight(0, true, {maxHeight: 5000})"
            ]
          },
          "metadata": {}
        },
        {
          "output_type": "display_data",
          "data": {
            "text/plain": [
              "<IPython.core.display.Javascript object>"
            ],
            "application/javascript": [
              "google.colab.output.setIframeHeight(0, true, {maxHeight: 5000})"
            ]
          },
          "metadata": {}
        },
        {
          "output_type": "stream",
          "name": "stdout",
          "text": [
            "X cleaned has 103315 rows and 101 columns.\n",
            "Y cleaned has 103315 rows.\n"
          ]
        }
      ],
      "source": [
        "# Concatenate X and Y for simplicity\n",
        "df = pd.concat([X_over, y_over], axis=1)\n",
        "\n",
        "\n",
        "df.replace([np.inf, -np.inf], np.nan, inplace=True)\n",
        "df_cleaned = df.interpolate(method='linear')\n",
        "\n",
        "df_cleaned.shape\n",
        "\n",
        "from sklearn.impute import SimpleImputer\n",
        "\n",
        "imputer = SimpleImputer(strategy='mean')  # You can choose 'median' or 'constant' as well\n",
        "df_cleaned = pd.DataFrame(imputer.fit_transform(df_cleaned), columns=df_cleaned.columns)\n",
        "\n",
        "# Separate X and Y after cleaning\n",
        "X_cleaned = df_cleaned[X_over.columns]\n",
        "Y_cleaned = df_cleaned['isFraud']\n",
        "\n",
        "print(f'X cleaned has {X_cleaned.shape[0]} rows and {X_cleaned.shape[1]} columns.')\n",
        "print(f'Y cleaned has {Y_cleaned.shape[0]} rows.')"
      ]
    },
    {
      "cell_type": "code",
      "execution_count": null,
      "metadata": {
        "id": "H_VQN_N_lz5L",
        "colab": {
          "base_uri": "https://localhost:8080/",
          "height": 1787
        },
        "outputId": "f6dd80a5-e63b-45f9-bd41-c8cec3842996"
      },
      "outputs": [
        {
          "output_type": "display_data",
          "data": {
            "text/plain": [
              "<IPython.core.display.Javascript object>"
            ],
            "application/javascript": [
              "google.colab.output.setIframeHeight(0, true, {maxHeight: 5000})"
            ]
          },
          "metadata": {}
        },
        {
          "output_type": "display_data",
          "data": {
            "text/plain": [
              "<IPython.core.display.Javascript object>"
            ],
            "application/javascript": [
              "google.colab.output.setIframeHeight(0, true, {maxHeight: 5000})"
            ]
          },
          "metadata": {}
        },
        {
          "output_type": "stream",
          "name": "stdout",
          "text": [
            "TransactionAmt                  0\n",
            "card1                           0\n",
            "card2                           0\n",
            "card4                           0\n",
            "card5                           0\n",
            "addr1                           0\n",
            "dist1                           0\n",
            "P_emaildomain                   0\n",
            "C1                              0\n",
            "C2                              0\n",
            "C5                              0\n",
            "C6                              0\n",
            "C9                              0\n",
            "C11                             0\n",
            "C13                             0\n",
            "C14                             0\n",
            "D1                              0\n",
            "D2                              0\n",
            "D3                              0\n",
            "D4                              0\n",
            "D5                              0\n",
            "D10                             0\n",
            "D11                             0\n",
            "D15                             0\n",
            "M1                              0\n",
            "M2                              0\n",
            "M3                              0\n",
            "M4                              0\n",
            "M5                              0\n",
            "M6                              0\n",
            "M7                              0\n",
            "M8                              0\n",
            "M9                              0\n",
            "V1                              0\n",
            "V2                              0\n",
            "V3                              0\n",
            "V4                              0\n",
            "V5                              0\n",
            "V6                              0\n",
            "V7                              0\n",
            "V8                              0\n",
            "V9                              0\n",
            "V10                             0\n",
            "V11                             0\n",
            "V12                             0\n",
            "V13                             0\n",
            "V19                             0\n",
            "V20                             0\n",
            "V29                             0\n",
            "V30                             0\n",
            "V35                             0\n",
            "V36                             0\n",
            "V37                             0\n",
            "V38                             0\n",
            "V39                             0\n",
            "V40                             0\n",
            "V42                             0\n",
            "V43                             0\n",
            "V44                             0\n",
            "V45                             0\n",
            "V46                             0\n",
            "V47                             0\n",
            "V48                             0\n",
            "V49                             0\n",
            "V50                             0\n",
            "V51                             0\n",
            "V52                             0\n",
            "V53                             0\n",
            "V54                             0\n",
            "V61                             0\n",
            "V62                             0\n",
            "V69                             0\n",
            "V70                             0\n",
            "V75                             0\n",
            "V76                             0\n",
            "V82                             0\n",
            "V83                             0\n",
            "V90                             0\n",
            "V91                             0\n",
            "V96                             0\n",
            "V99                             0\n",
            "V127                            0\n",
            "V130                            0\n",
            "V282                            0\n",
            "V283                            0\n",
            "V285                            0\n",
            "V307                            0\n",
            "V310                            0\n",
            "TransactionAmt_to_mean_card1    0\n",
            "TransactionAmt_to_mean_card4    0\n",
            "TransactionAmt_to_std_card1     0\n",
            "TransactionAmt_to_std_card4     0\n",
            "D15_to_mean_card1               0\n",
            "D15_to_mean_card4               0\n",
            "D15_to_std_card1                0\n",
            "D15_to_std_card4                0\n",
            "D15_to_mean_addr1               0\n",
            "D15_to_mean_addr2               0\n",
            "D15_to_std_addr1                0\n",
            "D15_to_std_addr2                0\n",
            "P_emaildomain_1                 0\n",
            "dtype: int64\n"
          ]
        }
      ],
      "source": [
        "# X_cleaned.isna().sum()\n",
        "# Adjust display settings to show more rows and columns\n",
        "pd.set_option('display.max_rows', None)  # Show all rows\n",
        "pd.set_option('display.max_columns', None)  # Show all columns\n",
        "\n",
        "# Display the DataFrame data types\n",
        "print(X_cleaned.isna().sum())\n",
        "\n",
        "# Reset display settings to default if needed\n",
        "pd.reset_option('display.max_rows')\n",
        "pd.reset_option('display.max_columns')"
      ]
    },
    {
      "cell_type": "code",
      "execution_count": null,
      "metadata": {
        "id": "RqOXosWSCoaD",
        "colab": {
          "base_uri": "https://localhost:8080/",
          "height": 256
        },
        "outputId": "1636f623-9a42-4249-f292-9fa8665d37f5"
      },
      "outputs": [
        {
          "output_type": "display_data",
          "data": {
            "text/plain": [
              "<IPython.core.display.Javascript object>"
            ],
            "application/javascript": [
              "google.colab.output.setIframeHeight(0, true, {maxHeight: 5000})"
            ]
          },
          "metadata": {}
        },
        {
          "output_type": "display_data",
          "data": {
            "text/plain": [
              "<IPython.core.display.Javascript object>"
            ],
            "application/javascript": [
              "google.colab.output.setIframeHeight(0, true, {maxHeight: 5000})"
            ]
          },
          "metadata": {}
        },
        {
          "output_type": "execute_result",
          "data": {
            "text/plain": [
              "   TransactionAmt    card1  card2  card4  card5  addr1       dist1  \\\n",
              "0          110.25   8643.0  163.0    4.0   54.0  240.0  133.664866   \n",
              "1          280.00   1008.0  206.0    4.0  108.0  175.0    0.000000   \n",
              "2           40.00   6227.0  482.0    4.0  108.0   17.0    0.600000   \n",
              "3          117.00  12876.0  149.0    4.0  108.0  255.0    1.200000   \n",
              "4          226.00  12921.0   10.0    4.0  108.0   17.0    1.800000   \n",
              "\n",
              "   P_emaildomain   C1   C2  ...  TransactionAmt_to_std_card4  \\\n",
              "0           32.0  1.0  1.0  ...                     0.483128   \n",
              "1           54.0  5.0  6.0  ...                     1.226991   \n",
              "2           16.0  1.0  1.0  ...                     0.175284   \n",
              "3           54.0  4.0  2.0  ...                     0.512707   \n",
              "4           54.0  4.0  5.0  ...                     0.990357   \n",
              "\n",
              "   D15_to_mean_card1  D15_to_mean_card4  D15_to_std_card1  D15_to_std_card4  \\\n",
              "0           0.000000           0.000000          0.000000          0.000000   \n",
              "1           2.612061           3.554124          2.356576          2.936092   \n",
              "2           1.871721           2.407919          1.680924          1.989202   \n",
              "3           1.131382           1.261714          1.005271          1.042313   \n",
              "4           0.037552           0.035541          0.029854          0.029361   \n",
              "\n",
              "   D15_to_mean_addr1  D15_to_mean_addr2  D15_to_std_addr1  D15_to_std_addr2  \\\n",
              "0           0.000000           0.000000          0.000000          0.000000   \n",
              "1           3.941424           3.278842          3.059381          2.899523   \n",
              "2           2.552842           2.221415          2.040692          1.964427   \n",
              "3           1.164260           1.163989          1.022003          1.029331   \n",
              "4           0.034145           0.032788          0.029459          0.028995   \n",
              "\n",
              "   P_emaildomain_1  \n",
              "0             25.0  \n",
              "1             43.0  \n",
              "2             15.0  \n",
              "3             43.0  \n",
              "4             43.0  \n",
              "\n",
              "[5 rows x 101 columns]"
            ],
            "text/html": [
              "\n",
              "  <div id=\"df-8cbe24ed-c33c-4132-b4c3-b5a753008203\" class=\"colab-df-container\">\n",
              "    <div>\n",
              "<style scoped>\n",
              "    .dataframe tbody tr th:only-of-type {\n",
              "        vertical-align: middle;\n",
              "    }\n",
              "\n",
              "    .dataframe tbody tr th {\n",
              "        vertical-align: top;\n",
              "    }\n",
              "\n",
              "    .dataframe thead th {\n",
              "        text-align: right;\n",
              "    }\n",
              "</style>\n",
              "<table border=\"1\" class=\"dataframe\">\n",
              "  <thead>\n",
              "    <tr style=\"text-align: right;\">\n",
              "      <th></th>\n",
              "      <th>TransactionAmt</th>\n",
              "      <th>card1</th>\n",
              "      <th>card2</th>\n",
              "      <th>card4</th>\n",
              "      <th>card5</th>\n",
              "      <th>addr1</th>\n",
              "      <th>dist1</th>\n",
              "      <th>P_emaildomain</th>\n",
              "      <th>C1</th>\n",
              "      <th>C2</th>\n",
              "      <th>...</th>\n",
              "      <th>TransactionAmt_to_std_card4</th>\n",
              "      <th>D15_to_mean_card1</th>\n",
              "      <th>D15_to_mean_card4</th>\n",
              "      <th>D15_to_std_card1</th>\n",
              "      <th>D15_to_std_card4</th>\n",
              "      <th>D15_to_mean_addr1</th>\n",
              "      <th>D15_to_mean_addr2</th>\n",
              "      <th>D15_to_std_addr1</th>\n",
              "      <th>D15_to_std_addr2</th>\n",
              "      <th>P_emaildomain_1</th>\n",
              "    </tr>\n",
              "  </thead>\n",
              "  <tbody>\n",
              "    <tr>\n",
              "      <th>0</th>\n",
              "      <td>110.25</td>\n",
              "      <td>8643.0</td>\n",
              "      <td>163.0</td>\n",
              "      <td>4.0</td>\n",
              "      <td>54.0</td>\n",
              "      <td>240.0</td>\n",
              "      <td>133.664866</td>\n",
              "      <td>32.0</td>\n",
              "      <td>1.0</td>\n",
              "      <td>1.0</td>\n",
              "      <td>...</td>\n",
              "      <td>0.483128</td>\n",
              "      <td>0.000000</td>\n",
              "      <td>0.000000</td>\n",
              "      <td>0.000000</td>\n",
              "      <td>0.000000</td>\n",
              "      <td>0.000000</td>\n",
              "      <td>0.000000</td>\n",
              "      <td>0.000000</td>\n",
              "      <td>0.000000</td>\n",
              "      <td>25.0</td>\n",
              "    </tr>\n",
              "    <tr>\n",
              "      <th>1</th>\n",
              "      <td>280.00</td>\n",
              "      <td>1008.0</td>\n",
              "      <td>206.0</td>\n",
              "      <td>4.0</td>\n",
              "      <td>108.0</td>\n",
              "      <td>175.0</td>\n",
              "      <td>0.000000</td>\n",
              "      <td>54.0</td>\n",
              "      <td>5.0</td>\n",
              "      <td>6.0</td>\n",
              "      <td>...</td>\n",
              "      <td>1.226991</td>\n",
              "      <td>2.612061</td>\n",
              "      <td>3.554124</td>\n",
              "      <td>2.356576</td>\n",
              "      <td>2.936092</td>\n",
              "      <td>3.941424</td>\n",
              "      <td>3.278842</td>\n",
              "      <td>3.059381</td>\n",
              "      <td>2.899523</td>\n",
              "      <td>43.0</td>\n",
              "    </tr>\n",
              "    <tr>\n",
              "      <th>2</th>\n",
              "      <td>40.00</td>\n",
              "      <td>6227.0</td>\n",
              "      <td>482.0</td>\n",
              "      <td>4.0</td>\n",
              "      <td>108.0</td>\n",
              "      <td>17.0</td>\n",
              "      <td>0.600000</td>\n",
              "      <td>16.0</td>\n",
              "      <td>1.0</td>\n",
              "      <td>1.0</td>\n",
              "      <td>...</td>\n",
              "      <td>0.175284</td>\n",
              "      <td>1.871721</td>\n",
              "      <td>2.407919</td>\n",
              "      <td>1.680924</td>\n",
              "      <td>1.989202</td>\n",
              "      <td>2.552842</td>\n",
              "      <td>2.221415</td>\n",
              "      <td>2.040692</td>\n",
              "      <td>1.964427</td>\n",
              "      <td>15.0</td>\n",
              "    </tr>\n",
              "    <tr>\n",
              "      <th>3</th>\n",
              "      <td>117.00</td>\n",
              "      <td>12876.0</td>\n",
              "      <td>149.0</td>\n",
              "      <td>4.0</td>\n",
              "      <td>108.0</td>\n",
              "      <td>255.0</td>\n",
              "      <td>1.200000</td>\n",
              "      <td>54.0</td>\n",
              "      <td>4.0</td>\n",
              "      <td>2.0</td>\n",
              "      <td>...</td>\n",
              "      <td>0.512707</td>\n",
              "      <td>1.131382</td>\n",
              "      <td>1.261714</td>\n",
              "      <td>1.005271</td>\n",
              "      <td>1.042313</td>\n",
              "      <td>1.164260</td>\n",
              "      <td>1.163989</td>\n",
              "      <td>1.022003</td>\n",
              "      <td>1.029331</td>\n",
              "      <td>43.0</td>\n",
              "    </tr>\n",
              "    <tr>\n",
              "      <th>4</th>\n",
              "      <td>226.00</td>\n",
              "      <td>12921.0</td>\n",
              "      <td>10.0</td>\n",
              "      <td>4.0</td>\n",
              "      <td>108.0</td>\n",
              "      <td>17.0</td>\n",
              "      <td>1.800000</td>\n",
              "      <td>54.0</td>\n",
              "      <td>4.0</td>\n",
              "      <td>5.0</td>\n",
              "      <td>...</td>\n",
              "      <td>0.990357</td>\n",
              "      <td>0.037552</td>\n",
              "      <td>0.035541</td>\n",
              "      <td>0.029854</td>\n",
              "      <td>0.029361</td>\n",
              "      <td>0.034145</td>\n",
              "      <td>0.032788</td>\n",
              "      <td>0.029459</td>\n",
              "      <td>0.028995</td>\n",
              "      <td>43.0</td>\n",
              "    </tr>\n",
              "  </tbody>\n",
              "</table>\n",
              "<p>5 rows × 101 columns</p>\n",
              "</div>\n",
              "    <div class=\"colab-df-buttons\">\n",
              "\n",
              "  <div class=\"colab-df-container\">\n",
              "    <button class=\"colab-df-convert\" onclick=\"convertToInteractive('df-8cbe24ed-c33c-4132-b4c3-b5a753008203')\"\n",
              "            title=\"Convert this dataframe to an interactive table.\"\n",
              "            style=\"display:none;\">\n",
              "\n",
              "  <svg xmlns=\"http://www.w3.org/2000/svg\" height=\"24px\" viewBox=\"0 -960 960 960\">\n",
              "    <path d=\"M120-120v-720h720v720H120Zm60-500h600v-160H180v160Zm220 220h160v-160H400v160Zm0 220h160v-160H400v160ZM180-400h160v-160H180v160Zm440 0h160v-160H620v160ZM180-180h160v-160H180v160Zm440 0h160v-160H620v160Z\"/>\n",
              "  </svg>\n",
              "    </button>\n",
              "\n",
              "  <style>\n",
              "    .colab-df-container {\n",
              "      display:flex;\n",
              "      gap: 12px;\n",
              "    }\n",
              "\n",
              "    .colab-df-convert {\n",
              "      background-color: #E8F0FE;\n",
              "      border: none;\n",
              "      border-radius: 50%;\n",
              "      cursor: pointer;\n",
              "      display: none;\n",
              "      fill: #1967D2;\n",
              "      height: 32px;\n",
              "      padding: 0 0 0 0;\n",
              "      width: 32px;\n",
              "    }\n",
              "\n",
              "    .colab-df-convert:hover {\n",
              "      background-color: #E2EBFA;\n",
              "      box-shadow: 0px 1px 2px rgba(60, 64, 67, 0.3), 0px 1px 3px 1px rgba(60, 64, 67, 0.15);\n",
              "      fill: #174EA6;\n",
              "    }\n",
              "\n",
              "    .colab-df-buttons div {\n",
              "      margin-bottom: 4px;\n",
              "    }\n",
              "\n",
              "    [theme=dark] .colab-df-convert {\n",
              "      background-color: #3B4455;\n",
              "      fill: #D2E3FC;\n",
              "    }\n",
              "\n",
              "    [theme=dark] .colab-df-convert:hover {\n",
              "      background-color: #434B5C;\n",
              "      box-shadow: 0px 1px 3px 1px rgba(0, 0, 0, 0.15);\n",
              "      filter: drop-shadow(0px 1px 2px rgba(0, 0, 0, 0.3));\n",
              "      fill: #FFFFFF;\n",
              "    }\n",
              "  </style>\n",
              "\n",
              "    <script>\n",
              "      const buttonEl =\n",
              "        document.querySelector('#df-8cbe24ed-c33c-4132-b4c3-b5a753008203 button.colab-df-convert');\n",
              "      buttonEl.style.display =\n",
              "        google.colab.kernel.accessAllowed ? 'block' : 'none';\n",
              "\n",
              "      async function convertToInteractive(key) {\n",
              "        const element = document.querySelector('#df-8cbe24ed-c33c-4132-b4c3-b5a753008203');\n",
              "        const dataTable =\n",
              "          await google.colab.kernel.invokeFunction('convertToInteractive',\n",
              "                                                    [key], {});\n",
              "        if (!dataTable) return;\n",
              "\n",
              "        const docLinkHtml = 'Like what you see? Visit the ' +\n",
              "          '<a target=\"_blank\" href=https://colab.research.google.com/notebooks/data_table.ipynb>data table notebook</a>'\n",
              "          + ' to learn more about interactive tables.';\n",
              "        element.innerHTML = '';\n",
              "        dataTable['output_type'] = 'display_data';\n",
              "        await google.colab.output.renderOutput(dataTable, element);\n",
              "        const docLink = document.createElement('div');\n",
              "        docLink.innerHTML = docLinkHtml;\n",
              "        element.appendChild(docLink);\n",
              "      }\n",
              "    </script>\n",
              "  </div>\n",
              "\n",
              "\n",
              "<div id=\"df-516bb036-a2e7-48d7-a32e-6bf1ca2cc3ed\">\n",
              "  <button class=\"colab-df-quickchart\" onclick=\"quickchart('df-516bb036-a2e7-48d7-a32e-6bf1ca2cc3ed')\"\n",
              "            title=\"Suggest charts\"\n",
              "            style=\"display:none;\">\n",
              "\n",
              "<svg xmlns=\"http://www.w3.org/2000/svg\" height=\"24px\"viewBox=\"0 0 24 24\"\n",
              "     width=\"24px\">\n",
              "    <g>\n",
              "        <path d=\"M19 3H5c-1.1 0-2 .9-2 2v14c0 1.1.9 2 2 2h14c1.1 0 2-.9 2-2V5c0-1.1-.9-2-2-2zM9 17H7v-7h2v7zm4 0h-2V7h2v10zm4 0h-2v-4h2v4z\"/>\n",
              "    </g>\n",
              "</svg>\n",
              "  </button>\n",
              "\n",
              "<style>\n",
              "  .colab-df-quickchart {\n",
              "      --bg-color: #E8F0FE;\n",
              "      --fill-color: #1967D2;\n",
              "      --hover-bg-color: #E2EBFA;\n",
              "      --hover-fill-color: #174EA6;\n",
              "      --disabled-fill-color: #AAA;\n",
              "      --disabled-bg-color: #DDD;\n",
              "  }\n",
              "\n",
              "  [theme=dark] .colab-df-quickchart {\n",
              "      --bg-color: #3B4455;\n",
              "      --fill-color: #D2E3FC;\n",
              "      --hover-bg-color: #434B5C;\n",
              "      --hover-fill-color: #FFFFFF;\n",
              "      --disabled-bg-color: #3B4455;\n",
              "      --disabled-fill-color: #666;\n",
              "  }\n",
              "\n",
              "  .colab-df-quickchart {\n",
              "    background-color: var(--bg-color);\n",
              "    border: none;\n",
              "    border-radius: 50%;\n",
              "    cursor: pointer;\n",
              "    display: none;\n",
              "    fill: var(--fill-color);\n",
              "    height: 32px;\n",
              "    padding: 0;\n",
              "    width: 32px;\n",
              "  }\n",
              "\n",
              "  .colab-df-quickchart:hover {\n",
              "    background-color: var(--hover-bg-color);\n",
              "    box-shadow: 0 1px 2px rgba(60, 64, 67, 0.3), 0 1px 3px 1px rgba(60, 64, 67, 0.15);\n",
              "    fill: var(--button-hover-fill-color);\n",
              "  }\n",
              "\n",
              "  .colab-df-quickchart-complete:disabled,\n",
              "  .colab-df-quickchart-complete:disabled:hover {\n",
              "    background-color: var(--disabled-bg-color);\n",
              "    fill: var(--disabled-fill-color);\n",
              "    box-shadow: none;\n",
              "  }\n",
              "\n",
              "  .colab-df-spinner {\n",
              "    border: 2px solid var(--fill-color);\n",
              "    border-color: transparent;\n",
              "    border-bottom-color: var(--fill-color);\n",
              "    animation:\n",
              "      spin 1s steps(1) infinite;\n",
              "  }\n",
              "\n",
              "  @keyframes spin {\n",
              "    0% {\n",
              "      border-color: transparent;\n",
              "      border-bottom-color: var(--fill-color);\n",
              "      border-left-color: var(--fill-color);\n",
              "    }\n",
              "    20% {\n",
              "      border-color: transparent;\n",
              "      border-left-color: var(--fill-color);\n",
              "      border-top-color: var(--fill-color);\n",
              "    }\n",
              "    30% {\n",
              "      border-color: transparent;\n",
              "      border-left-color: var(--fill-color);\n",
              "      border-top-color: var(--fill-color);\n",
              "      border-right-color: var(--fill-color);\n",
              "    }\n",
              "    40% {\n",
              "      border-color: transparent;\n",
              "      border-right-color: var(--fill-color);\n",
              "      border-top-color: var(--fill-color);\n",
              "    }\n",
              "    60% {\n",
              "      border-color: transparent;\n",
              "      border-right-color: var(--fill-color);\n",
              "    }\n",
              "    80% {\n",
              "      border-color: transparent;\n",
              "      border-right-color: var(--fill-color);\n",
              "      border-bottom-color: var(--fill-color);\n",
              "    }\n",
              "    90% {\n",
              "      border-color: transparent;\n",
              "      border-bottom-color: var(--fill-color);\n",
              "    }\n",
              "  }\n",
              "</style>\n",
              "\n",
              "  <script>\n",
              "    async function quickchart(key) {\n",
              "      const quickchartButtonEl =\n",
              "        document.querySelector('#' + key + ' button');\n",
              "      quickchartButtonEl.disabled = true;  // To prevent multiple clicks.\n",
              "      quickchartButtonEl.classList.add('colab-df-spinner');\n",
              "      try {\n",
              "        const charts = await google.colab.kernel.invokeFunction(\n",
              "            'suggestCharts', [key], {});\n",
              "      } catch (error) {\n",
              "        console.error('Error during call to suggestCharts:', error);\n",
              "      }\n",
              "      quickchartButtonEl.classList.remove('colab-df-spinner');\n",
              "      quickchartButtonEl.classList.add('colab-df-quickchart-complete');\n",
              "    }\n",
              "    (() => {\n",
              "      let quickchartButtonEl =\n",
              "        document.querySelector('#df-516bb036-a2e7-48d7-a32e-6bf1ca2cc3ed button');\n",
              "      quickchartButtonEl.style.display =\n",
              "        google.colab.kernel.accessAllowed ? 'block' : 'none';\n",
              "    })();\n",
              "  </script>\n",
              "</div>\n",
              "    </div>\n",
              "  </div>\n"
            ]
          },
          "metadata": {},
          "execution_count": 24
        }
      ],
      "source": [
        "X_cleaned.head()"
      ]
    },
    {
      "cell_type": "code",
      "execution_count": null,
      "metadata": {
        "id": "ZBc_pQn-xiay",
        "colab": {
          "base_uri": "https://localhost:8080/",
          "height": 86
        },
        "outputId": "80b662d2-a387-426a-c16b-134d86b92432"
      },
      "outputs": [
        {
          "output_type": "display_data",
          "data": {
            "text/plain": [
              "<IPython.core.display.Javascript object>"
            ],
            "application/javascript": [
              "google.colab.output.setIframeHeight(0, true, {maxHeight: 5000})"
            ]
          },
          "metadata": {}
        },
        {
          "output_type": "display_data",
          "data": {
            "text/plain": [
              "<IPython.core.display.Javascript object>"
            ],
            "application/javascript": [
              "google.colab.output.setIframeHeight(0, true, {maxHeight: 5000})"
            ]
          },
          "metadata": {}
        },
        {
          "output_type": "stream",
          "name": "stdout",
          "text": [
            "(69221, 101)\n",
            "(69221,)\n",
            "(34094, 101)\n",
            "(34094,)\n"
          ]
        }
      ],
      "source": [
        "# train-test split\n",
        "X_train, X_test, y_train, y_test = train_test_split(X_cleaned, Y_cleaned, test_size=0.33, random_state=42)\n",
        "\n",
        "print(X_train.shape)\n",
        "print(y_train.shape)\n",
        "print(X_test.shape)\n",
        "print(y_test.shape)"
      ]
    },
    {
      "cell_type": "code",
      "execution_count": null,
      "metadata": {
        "id": "qyuUsyhLxC3y",
        "colab": {
          "base_uri": "https://localhost:8080/",
          "height": 17
        },
        "outputId": "86e48411-bdb5-4a61-9009-702fc622be22"
      },
      "outputs": [
        {
          "output_type": "display_data",
          "data": {
            "text/plain": [
              "<IPython.core.display.Javascript object>"
            ],
            "application/javascript": [
              "google.colab.output.setIframeHeight(0, true, {maxHeight: 5000})"
            ]
          },
          "metadata": {}
        },
        {
          "output_type": "display_data",
          "data": {
            "text/plain": [
              "<IPython.core.display.Javascript object>"
            ],
            "application/javascript": [
              "google.colab.output.setIframeHeight(0, true, {maxHeight: 5000})"
            ]
          },
          "metadata": {}
        }
      ],
      "source": [
        "from sklearn.preprocessing import StandardScaler\n",
        "\n",
        "scaler = StandardScaler()\n",
        "X_train_scaled = scaler.fit_transform(X_train)\n",
        "X_test_scaled = scaler.fit_transform(X_test)"
      ]
    },
    {
      "cell_type": "code",
      "execution_count": null,
      "metadata": {
        "id": "Pddp2z1haBKC",
        "colab": {
          "base_uri": "https://localhost:8080/",
          "height": 34
        },
        "outputId": "8990feab-ddae-43a0-abfc-2eb5f2cb3a87"
      },
      "outputs": [
        {
          "output_type": "display_data",
          "data": {
            "text/plain": [
              "<IPython.core.display.Javascript object>"
            ],
            "application/javascript": [
              "google.colab.output.setIframeHeight(0, true, {maxHeight: 5000})"
            ]
          },
          "metadata": {}
        },
        {
          "output_type": "display_data",
          "data": {
            "text/plain": [
              "<IPython.core.display.Javascript object>"
            ],
            "application/javascript": [
              "google.colab.output.setIframeHeight(0, true, {maxHeight: 5000})"
            ]
          },
          "metadata": {}
        },
        {
          "output_type": "stream",
          "name": "stdout",
          "text": [
            "(69221, 101)\n"
          ]
        }
      ],
      "source": [
        "print(X_train_scaled.shape)"
      ]
    },
    {
      "cell_type": "code",
      "execution_count": null,
      "metadata": {
        "id": "5VLVparWbblA"
      },
      "outputs": [],
      "source": [
        "# from sklearn.metrics import accuracy_score\n",
        "# from sklearn.decomposition import PCA\n",
        "\n",
        "# pca = PCA(n_components=25)\n",
        "\n",
        "# X_train_scaled = pca.fit_transform(X_train_scaled)\n",
        "# X_test_scaled = pca.transform(X_test_scaled)"
      ]
    },
    {
      "cell_type": "code",
      "source": [
        "\n",
        "from sklearn.metrics import accuracy_score"
      ],
      "metadata": {
        "colab": {
          "base_uri": "https://localhost:8080/",
          "height": 17
        },
        "id": "7n8iYUcq4RxA",
        "outputId": "bf0ba0f5-8a2c-4fa5-ce07-4b8de7155996"
      },
      "execution_count": null,
      "outputs": [
        {
          "output_type": "display_data",
          "data": {
            "text/plain": [
              "<IPython.core.display.Javascript object>"
            ],
            "application/javascript": [
              "google.colab.output.setIframeHeight(0, true, {maxHeight: 5000})"
            ]
          },
          "metadata": {}
        },
        {
          "output_type": "display_data",
          "data": {
            "text/plain": [
              "<IPython.core.display.Javascript object>"
            ],
            "application/javascript": [
              "google.colab.output.setIframeHeight(0, true, {maxHeight: 5000})"
            ]
          },
          "metadata": {}
        }
      ]
    },
    {
      "cell_type": "code",
      "execution_count": null,
      "metadata": {
        "id": "5UY91DCy8t8V",
        "colab": {
          "base_uri": "https://localhost:8080/",
          "height": 34
        },
        "outputId": "e7b1ed5f-243e-43fb-e75b-688e211c1e3b"
      },
      "outputs": [
        {
          "output_type": "display_data",
          "data": {
            "text/plain": [
              "<IPython.core.display.Javascript object>"
            ],
            "application/javascript": [
              "google.colab.output.setIframeHeight(0, true, {maxHeight: 5000})"
            ]
          },
          "metadata": {}
        },
        {
          "output_type": "display_data",
          "data": {
            "text/plain": [
              "<IPython.core.display.Javascript object>"
            ],
            "application/javascript": [
              "google.colab.output.setIframeHeight(0, true, {maxHeight: 5000})"
            ]
          },
          "metadata": {}
        },
        {
          "output_type": "stream",
          "name": "stdout",
          "text": [
            "0.8664281105179797\n"
          ]
        }
      ],
      "source": [
        "# Logistic Regression\n",
        "lr = LogisticRegression(random_state=0, max_iter=1000).fit(X_train_scaled, y_train)\n",
        "y_pred = lr.predict(X_test_scaled)\n",
        "# score =accuracy_score(y_test, pred)\n",
        "print(score)"
      ]
    },
    {
      "cell_type": "code",
      "source": [
        "from sklearn.metrics import  accuracy_score, roc_auc_score, accuracy_score, precision_score, recall_score, f1_score, roc_curve, auc\n",
        "\n",
        "y_pred_proba = lr.predict_proba(X_test_scaled)[:, 1]\n",
        "\n",
        "accuracy = accuracy_score(y_test, y_pred)\n",
        "precision = precision_score(y_test, y_pred)\n",
        "recall = recall_score(y_test, y_pred)\n",
        "f1 = f1_score(y_test, y_pred)\n",
        "auroc = roc_auc_score(y_test, y_pred_proba)"
      ],
      "metadata": {
        "colab": {
          "base_uri": "https://localhost:8080/",
          "height": 17
        },
        "id": "UG-r2PtQ4Exl",
        "outputId": "69efb2ee-1bd1-4ae4-d000-9bb139d77632"
      },
      "execution_count": null,
      "outputs": [
        {
          "output_type": "display_data",
          "data": {
            "text/plain": [
              "<IPython.core.display.Javascript object>"
            ],
            "application/javascript": [
              "google.colab.output.setIframeHeight(0, true, {maxHeight: 5000})"
            ]
          },
          "metadata": {}
        },
        {
          "output_type": "display_data",
          "data": {
            "text/plain": [
              "<IPython.core.display.Javascript object>"
            ],
            "application/javascript": [
              "google.colab.output.setIframeHeight(0, true, {maxHeight: 5000})"
            ]
          },
          "metadata": {}
        }
      ]
    },
    {
      "cell_type": "code",
      "source": [
        "A = (f\"{accuracy:.4f},{precision:.4f},{recall:.4f},{f1:.4f},{auroc:.4f}\")\n",
        "A.split(',')"
      ],
      "metadata": {
        "colab": {
          "base_uri": "https://localhost:8080/",
          "height": 34
        },
        "id": "_jjlhVE241UK",
        "outputId": "534d044a-f386-4224-b3ce-545b6492e405"
      },
      "execution_count": null,
      "outputs": [
        {
          "output_type": "display_data",
          "data": {
            "text/plain": [
              "<IPython.core.display.Javascript object>"
            ],
            "application/javascript": [
              "google.colab.output.setIframeHeight(0, true, {maxHeight: 5000})"
            ]
          },
          "metadata": {}
        },
        {
          "output_type": "display_data",
          "data": {
            "text/plain": [
              "<IPython.core.display.Javascript object>"
            ],
            "application/javascript": [
              "google.colab.output.setIframeHeight(0, true, {maxHeight: 5000})"
            ]
          },
          "metadata": {}
        },
        {
          "output_type": "execute_result",
          "data": {
            "text/plain": [
              "['0.8664', '0.7699', '0.4694', '0.5832', '0.8640']"
            ]
          },
          "metadata": {},
          "execution_count": 39
        }
      ]
    },
    {
      "cell_type": "code",
      "execution_count": null,
      "metadata": {
        "id": "5Fzn50BVbcdU"
      },
      "outputs": [],
      "source": [
        "# XGBoost\n",
        "\n",
        "import xgboost as xgb\n",
        "\n",
        "xgb_clf = xgb.XGBClassifier()\n",
        "xgb_clf.fit(X_train_scaled, y_train)\n",
        "xgb_pred = xgb_clf.predict(X_test_scaled)\n",
        "score =accuracy_score(y_test, xgb_pred)\n",
        "print(score)"
      ]
    },
    {
      "cell_type": "code",
      "execution_count": null,
      "metadata": {
        "id": "Dg-tUzOghJga"
      },
      "outputs": [],
      "source": [
        "# Random Forests\n",
        "\n",
        "from sklearn.ensemble import RandomForestClassifier\n",
        "\n",
        "rf_clf = RandomForestClassifier(n_estimators=100)\n",
        "rf_clf.fit(X_train_scaled, y_train)\n",
        "\n",
        "rf_pred = rf_clf.predict(X_test_scaled)\n",
        "\n",
        "score = accuracy_score(y_test, rf_pred)\n",
        "print(score)"
      ]
    },
    {
      "cell_type": "code",
      "execution_count": null,
      "metadata": {
        "colab": {
          "background_save": true
        },
        "id": "aCK9E6bS8uTD",
        "outputId": "e87c6352-0873-45fd-9b42-a4f42831a275"
      },
      "outputs": [
        {
          "data": {
            "application/javascript": [
              "google.colab.output.setIframeHeight(0, true, {maxHeight: 5000})"
            ],
            "text/plain": [
              "<IPython.core.display.Javascript object>"
            ]
          },
          "metadata": {},
          "output_type": "display_data"
        },
        {
          "name": "stderr",
          "output_type": "stream",
          "text": [
            "/usr/local/lib/python3.10/dist-packages/sklearn/neural_network/_multilayer_perceptron.py:686: ConvergenceWarning: Stochastic Optimizer: Maximum iterations (100) reached and the optimization hasn't converged yet.\n",
            "  warnings.warn(\n"
          ]
        },
        {
          "name": "stdout",
          "output_type": "stream",
          "text": [
            "0.8487180918804953\n"
          ]
        }
      ],
      "source": [
        "# MLP\n",
        "from sklearn.neural_network import MLPClassifier\n",
        "\n",
        "mlp_clf = MLPClassifier(hidden_layer_sizes=(64, 16), learning_rate_init=0.001, learning_rate='adaptive', solver='sgd', max_iter=100)\n",
        "mlp_clf.fit(X_train_scaled, y_train)\n",
        "\n",
        "mlp_pred = mlp_clf.predict(X_test_scaled)\n",
        "\n",
        "score = accuracy_score(y_test, mlp_pred)\n",
        "print(score)"
      ]
    },
    {
      "cell_type": "code",
      "execution_count": null,
      "metadata": {
        "colab": {
          "background_save": true
        },
        "id": "e-yHYHmP8uae",
        "outputId": "f3d6eacd-aa37-49d2-f35b-e9e7e700e4c9"
      },
      "outputs": [
        {
          "data": {
            "application/javascript": [
              "google.colab.output.setIframeHeight(0, true, {maxHeight: 5000})"
            ],
            "text/plain": [
              "<IPython.core.display.Javascript object>"
            ]
          },
          "metadata": {},
          "output_type": "display_data"
        },
        {
          "name": "stdout",
          "output_type": "stream",
          "text": [
            "0.8487180918804953\n"
          ]
        }
      ],
      "source": [
        "# KNN\n",
        "from sklearn.neighbors import KNeighborsClassifier\n",
        "\n",
        "knn_classifier = KNeighborsClassifier(n_neighbors=5)\n",
        "knn_classifier.fit(X_train_scaled, y_train)\n",
        "y_pred = knn_classifier.predict(X_test_scaled)\n",
        "\n",
        "score = accuracy_score(y_test, mlp_pred)\n",
        "print(score)"
      ]
    },
    {
      "cell_type": "code",
      "execution_count": null,
      "metadata": {
        "colab": {
          "background_save": true
        },
        "id": "wCVkW8aozFaD",
        "outputId": "c9e9915c-433d-421c-ac8c-ae151ee3cd36"
      },
      "outputs": [
        {
          "data": {
            "application/javascript": [
              "google.colab.output.setIframeHeight(0, true, {maxHeight: 5000})"
            ],
            "text/plain": [
              "<IPython.core.display.Javascript object>"
            ]
          },
          "metadata": {},
          "output_type": "display_data"
        },
        {
          "name": "stdout",
          "output_type": "stream",
          "text": [
            "0.7781420241997878\n"
          ]
        },
        {
          "name": "stderr",
          "output_type": "stream",
          "text": [
            "/usr/local/lib/python3.10/dist-packages/sklearn/svm/_base.py:1244: ConvergenceWarning: Liblinear failed to converge, increase the number of iterations.\n",
            "  warnings.warn(\n"
          ]
        }
      ],
      "source": [
        "# SVM\n",
        "from sklearn.svm import LinearSVC\n",
        "\n",
        "svc_clf = LinearSVC(random_state=0)\n",
        "svc_clf.fit(X_train_scaled, y_train)\n",
        "\n",
        "svc_pred = svc_clf.predict(X_test_scaled)\n",
        "\n",
        "score = accuracy_score(y_test, svc_pred)\n",
        "print(score)\n"
      ]
    },
    {
      "cell_type": "code",
      "execution_count": null,
      "metadata": {
        "colab": {
          "background_save": true
        },
        "id": "hrBWemiCSxjs"
      },
      "outputs": [],
      "source": [
        "from sklearn.naive_bayes import GaussianNB\n",
        "\n",
        "# Naive Bayes\n",
        "\n",
        "nb_clf = GaussianNB()\n",
        "nb_clf.fit(X_train, y_train)\n",
        "\n",
        "nb_pred = nb_clf.predict(X_test)\n",
        "\n",
        "score =accuracy_score(y_test, nb_pred)\n",
        "print(score)"
      ]
    }
  ],
  "metadata": {
    "accelerator": "GPU",
    "colab": {
      "provenance": []
    },
    "kernelspec": {
      "display_name": "Python 3",
      "name": "python3"
    },
    "language_info": {
      "name": "python"
    }
  },
  "nbformat": 4,
  "nbformat_minor": 0
}